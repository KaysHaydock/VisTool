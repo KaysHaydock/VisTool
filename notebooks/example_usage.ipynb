{
 "cells": [
  {
   "cell_type": "markdown",
   "metadata": {},
   "source": [
    "# VisTool Example Usage\n",
    "\n",
    "This notebook demonstrates how to use the `VisTool` for data downloading, wrangling, combining and visualization.\n",
    "\n",
    "## Prerequisites\n",
    "\n",
    "Make sure the `VisTool` is installed in your environment before proceeding please see READ.ME for how to install VisTool\n",
    "\n",
    "# Download Module \n",
    "\n",
    "1. `download_file`: Downloads a file from a given URL and saves it locally.\n",
    "\n",
    "2. `download_csv`: Downloads a CSV file from a URL and loads it into a Pandas DataFrame.\n",
    "\n",
    "3. `load_csv`: Loads a CSV file into a Pandas DataFrame from local path.\n",
    "\n",
    "4. `load_excel`: Load excel file into a Pandas DataFrame from local path. \n",
    "\n",
    "5. `summarize_data`: Summarizes key aspects of the dataset and provides an overview of its structure.\n",
    "\n",
    "## Combine Module \n",
    "\n",
    "1. `merge_datasets`: Merges two datasets on a specified column.\n",
    "\n",
    "2. `concat_datasets`: Concatenates multiple datasets along rows or columns.\n",
    "\n",
    "## Visualize Module \n",
    "1. `plot_histogram`: Plots a histogram of a column.\n",
    "\n",
    "2. `plot_scatter`: Creates a scatter plot of two columns.\n",
    "\n",
    "3. `plot_correlation_matrix`: Plots a heatmap of correlations between numeric columns.\n",
    "\n",
    "4. `plot_line`: Plots a line chart for time-series data.\n",
    "\n",
    "5. `plot_overlay`: Overlays multiple columns with different plot types.\n",
    "\n",
    "## Wrangle Module \n",
    " 1. `clean_data`: Cleans the dataset by dropping NaN values or filling with mean.\n",
    "\n",
    "2. `filter_data`: Filters rows based on a condition.\n",
    "\n",
    "3. `rename_columns`: Renames columns in the dataset.\n",
    "\n",
    "4. `label_encode`: Perform label encoding on a categorical column using Pandas and NumPy."
   ]
  },
  {
   "cell_type": "markdown",
   "metadata": {},
   "source": [
    "## Checking the package information and if it is installed correctly. "
   ]
  },
  {
   "cell_type": "code",
   "execution_count": 1,
   "metadata": {},
   "outputs": [
    {
     "name": "stdout",
     "output_type": "stream",
     "text": [
      "0.1.0\n",
      "VisTool\n",
      "Guled Abdullahi and Kayleigh Haydock \n"
     ]
    }
   ],
   "source": [
    "# this should work!\n",
    "import VisTool\n",
    "print(VisTool.__version__)\n",
    "print(VisTool.__name__)\n",
    "print(VisTool.__author__)"
   ]
  },
  {
   "cell_type": "markdown",
   "metadata": {},
   "source": [
    "## Download Module Example Usage \n",
    "\n",
    "1. download_file(url: str, save_path: str) -> None\n",
    "\n",
    "2. download_csv(url: str) -> pd.DataFrame\n",
    "\n",
    "3. load_csv(file_path: str) -> pd.DataFrame\n",
    "\n",
    "4. load_excel(file_path: str, sheet_name: str = None) -> pd.DataFrame\n",
    "\n",
    "5. summarize_data(df)\n",
    "\n",
    "Summarizes key aspects of the dataset and provides an overview of its structure, including:\n",
    "\n",
    "\t• Shape (rows, columns)\n",
    "\n",
    "\t• Numeric and non-numeric columns\n",
    "\n",
    "\t• Missing values\n",
    "\n",
    "\t• Duplicate rows\n",
    "\n",
    "\t• Categorical columns\n",
    "\n",
    "\t• Correlation matrix for numeric columns\n"
   ]
  },
  {
   "cell_type": "code",
   "execution_count": null,
   "metadata": {},
   "outputs": [],
   "source": [
    "# Import the download functions\n",
    "from VisTool.download import download_file,download_csv, load_csv,load_excel, summarize_data\n",
    "import os\n",
    "\n",
    "# Download a file and save it locally\n",
    "url = \"https://people.sc.fsu.edu/~jburkardt/data/csv/airtravel.csv\"\n",
    "save_path = \"data/airtravel.csv\"\n",
    "\n",
    "# Create the directory if it doesn't exist\n",
    "os.makedirs(os.path.dirname(save_path), exist_ok=True)\n",
    "\n",
    "# Download the file\n",
    "download_file(url, save_path)\n",
    "\n",
    "# Verify the file is saved\n",
    "if os.path.exists(save_path):\n",
    "    print(f\"File downloaded successfully and saved to: {save_path}\")\n",
    "else:\n",
    "    print(\"Failed to download the file.\")\n",
    "  "
   ]
  },
  {
   "cell_type": "code",
   "execution_count": null,
   "metadata": {},
   "outputs": [],
   "source": [
    "  \n",
    "\n",
    "#  Download a CSV file and load into Pandas DataFrame\n",
    "url = \"https://people.sc.fsu.edu/~jburkardt/data/csv/airtravel.csv\"\n",
    "df = download_csv(url)\n",
    "\n",
    "# Display the first few rows of the DataFrame\n",
    "print(\"Downloaded CSV Data:\")\n",
    "print(df.head())\n"
   ]
  },
  {
   "cell_type": "code",
   "execution_count": null,
   "metadata": {},
   "outputs": [],
   "source": [
    "# load csv file \n",
    "\n",
    "df = load_csv('data/Monthly_AE_Attendances_Nov_2024.csv')\n",
    "df.head(5)"
   ]
  },
  {
   "cell_type": "code",
   "execution_count": null,
   "metadata": {},
   "outputs": [],
   "source": [
    "# Load_excel file \n",
    "df_dict = load_excel('data/titanic3.xls')\n",
    "print(type(df_dict))  # Output: <class 'dict'>\n",
    "print(df_dict.keys())  # Output: dict_keys(['Sheet1', 'Sheet2', ...])"
   ]
  },
  {
   "cell_type": "code",
   "execution_count": null,
   "metadata": {},
   "outputs": [],
   "source": [
    "df = df_dict['titanic3']  # Access the DataFrame for the 'titanic3' sheet\n",
    "print(df.head(5))  # Display the first 5 rows of the DataFrame"
   ]
  },
  {
   "cell_type": "code",
   "execution_count": null,
   "metadata": {},
   "outputs": [],
   "source": [
    "## Summary of the data \n",
    "df = load_csv('data/Monthly_AE_Attendances_Nov_2024.csv')\n",
    "summarize_data(df)"
   ]
  },
  {
   "cell_type": "markdown",
   "metadata": {},
   "source": [
    "## Combine Module Example Usage\n",
    "\n",
    "The combine.py module allows for merging and concatenating datasets, making it easier to integrate and manage data. Below is a detailed explanation of the features along with examples.\n",
    "\n",
    "1.`merge_datasets(left_df, right_df, on, how)`\n",
    "\n",
    "This function merges two datasets on a specified column using various join methods (inner, outer, left, right).\n",
    "\n",
    "Arguments:\n",
    "\n",
    "• `left_df (pd.DataFrame)`: The first dataset.\n",
    "\n",
    "• `right_df (pd.DataFrame)`: The second dataset.\n",
    "\n",
    "• `on (str)`: The column to merge on.\n",
    "\n",
    "• `how (str, optional)`: Type of join (\"inner\", \"outer\", \"left\", \"right\"). Default: \"inner\".\n",
    "\n",
    "2.`concat_datasets(dataframes, axis)`\n",
    "\n",
    "This function concatenates multiple datasets either row-wise or column-wise.\n",
    "\n",
    "Arguments:\n",
    "\n",
    "• `dataframes (list[pd.DataFrame])`: List of datasets to concatenate.\n",
    "\n",
    "• `axis (int, optional)`: Axis to concatenate on (0 for rows, 1 for columns). Default: 0.    "
   ]
  },
  {
   "cell_type": "code",
   "execution_count": null,
   "metadata": {},
   "outputs": [],
   "source": [
    "\n",
    "\n",
    "#Example 1: Inner Join\n",
    "\n",
    "from VisTool.combine import merge_datasets, concat_datasets\n",
    "import pandas as pd\n",
    "\n",
    "# Sample data\n",
    "data1 = {'id': [1, 2, 3], 'name': ['Alice', 'Bob', 'Charlie']}\n",
    "data2 = {'id': [2, 3, 4], 'age': [25, 30, 35]}\n",
    "\n",
    "df1 = pd.DataFrame(data1)\n",
    "df2 = pd.DataFrame(data2)\n",
    "\n",
    "# Merge datasets inner joint \n",
    "merged_data = merge_datasets(df1, df2, on=\"id\", how=\"inner\")\n",
    "print(merged_data)\n",
    "\n"
   ]
  },
  {
   "cell_type": "code",
   "execution_count": null,
   "metadata": {},
   "outputs": [],
   "source": [
    "\n",
    "# Merge datasets inner joint \n",
    "\n",
    "merged_data = merge_datasets(df1, df2, on=\"id\", how=\"outer\")\n",
    "print(merged_data)"
   ]
  },
  {
   "cell_type": "code",
   "execution_count": null,
   "metadata": {},
   "outputs": [],
   "source": [
    "#Concatenating Row-Wise\n",
    "\n",
    "# Sample data\n",
    "df1 = pd.DataFrame({'id': [1, 2], 'name': ['Alice', 'Bob']})\n",
    "df2 = pd.DataFrame({'id': [3, 4], 'name': ['Charlie', 'David']})\n",
    "\n",
    "# Concatenate row-wise\n",
    "concatenated_data = concat_datasets([df1, df2], axis=0)\n",
    "print(concatenated_data)\n"
   ]
  },
  {
   "cell_type": "code",
   "execution_count": null,
   "metadata": {},
   "outputs": [],
   "source": [
    "\n",
    "# Concatenate column-wise\n",
    "concatenated_data = concat_datasets([df1, df2], axis=1)\n",
    "print(concatenated_data)"
   ]
  },
  {
   "cell_type": "markdown",
   "metadata": {},
   "source": [
    "## Wrangle Module Example Usage\n",
    "\n",
    "The wrangle module simplifies the process of preparing and managing datasets by offering both manual and interactive options for cleaning, filtering, renaming, and encoding data. The interactive functions allow users to manipulate their data directly in Jupyter Notebooks without writing additional code.\n",
    "\n",
    "`1. clean_data(data, remove_columns=None, fill_with=None, apply_to='columns')`\n",
    "\n",
    "This function cleans the dataset by dropping or filling missing values.\n",
    "\n",
    "Arguments:\n",
    "\n",
    "• data (pd.DataFrame): The input dataset.\n",
    "\n",
    "• remove_columns (list, optional): List of columns to drop rows with missing values.\n",
    "\n",
    "• fill_with (str, optional): Method to fill NaN values ('mean' or 'average').\n",
    "\n",
    "• apply_to (str, optional): Apply the operation to 'columns' or 'rows'. Default: 'columns'.\n",
    "\n",
    "\n",
    "`2. filter_data(data, condition)`\n",
    "\n",
    "Filters the dataset based on a specified condition.\n",
    "\n",
    "Arguments:\n",
    "• data (pd.DataFrame): The input dataset.\n",
    "\n",
    "• condition (str): A valid pandas query string to filter the data.\n",
    "\n",
    "\n",
    "`3. rename_columns(data, columns_mapping)`\n",
    "\n",
    "Renames columns using a dictionary mapping.\n",
    "\n",
    "Arguments:\n",
    "\n",
    "• data (pd.DataFrame): The input dataset.\n",
    "\n",
    "• columns_mapping (dict): A mapping of old column names to new names.\n",
    "\n",
    "`4. label_encode(data, column)`\n",
    "\n",
    "Applies label encoding to a categorical column.\n",
    "\n",
    "Arguments:\n",
    "• data (pd.DataFrame): The dataset containing the categorical column.\n",
    "\n",
    "• column (str): The name of the column to encode.\n",
    "\n",
    "\n",
    "\n",
    "`Interactive Variants`\n",
    "\n",
    "1. clean_data_interactive(data): Interactive version of clean_data.\n",
    "\n",
    "2. filter_data_interactive(data): Interactive version of filter_data.\n",
    "\n",
    "3. rename_columns_interactive(data): Interactive column renaming.\n",
    "\n",
    "4. label_encode_interactive(data): Interactive label encoding.\n",
    "\n"
   ]
  },
  {
   "cell_type": "code",
   "execution_count": 13,
   "metadata": {},
   "outputs": [
    {
     "name": "stdout",
     "output_type": "stream",
     "text": [
      "Rows with any NaN values were dropped.\n",
      "Cleaned Data:\n",
      "     A    B\n",
      "0  1.0  4.0\n",
      "Data filtered successfully.\n",
      "Filtered Data:\n",
      "     A   B\n",
      "2  3.0 NaN\n",
      "Columns renamed successfully.\n",
      "Renamed Data:\n",
      "   ColumnA  ColumnB\n",
      "0      1.0      4.0\n",
      "1      NaN      5.0\n",
      "2      3.0      NaN\n"
     ]
    }
   ],
   "source": [
    "# Import wrangle module functions\n",
    "from VisTool.wrangle import clean_data, filter_data, rename_columns\n",
    "\n",
    "# Example 1: Clean Data\n",
    "data = pd.DataFrame({\"A\": [1, None, 3], \"B\": [4, 5, None]})\n",
    "cleaned_data = clean_data(data)\n",
    "print(\"Cleaned Data:\")\n",
    "print(cleaned_data)\n",
    "\n",
    "# Example 2: Filter Data\n",
    "filtered_data = filter_data(data, \"A > 1\")\n",
    "print(\"Filtered Data:\")\n",
    "print(filtered_data)\n",
    "\n",
    "# Example 3: Rename Columns\n",
    "renamed_data = rename_columns(data, {\"A\": \"ColumnA\", \"B\": \"ColumnB\"})\n",
    "print(\"Renamed Data:\")\n",
    "print(renamed_data)"
   ]
  },
  {
   "cell_type": "code",
   "execution_count": 14,
   "metadata": {},
   "outputs": [
    {
     "name": "stdout",
     "output_type": "stream",
     "text": [
      "Original Data:\n",
      "      Name  Age      City\n",
      "0    Alice   25  New York\n",
      "1      Bob   30    London\n",
      "2  Charlie   35  New York\n",
      "3    Alice   28     Paris\n",
      "Label encoding applied to column: City\n",
      "\n",
      "Data with Label Encoding:\n",
      "      Name  Age  City\n",
      "0    Alice   25     1\n",
      "1      Bob   30     0\n",
      "2  Charlie   35     1\n",
      "3    Alice   28     2\n"
     ]
    }
   ],
   "source": [
    "from VisTool.wrangle import label_encode\n",
    "import pandas as pd\n",
    "\n",
    "# Example usage\n",
    "# Sample data\n",
    "df = pd.DataFrame({\n",
    "    \"Name\": [\"Alice\", \"Bob\", \"Charlie\", \"Alice\"],\n",
    "    \"Age\": [25, 30, 35, 28],\n",
    "    \"City\": [\"New York\", \"London\", \"New York\", \"Paris\"]\n",
    "    })\n",
    "\n",
    "print(\"Original Data:\")\n",
    "print(df)\n",
    "\n",
    "# Apply label encoding to the 'City' column\n",
    "df_encoded = label_encode(df.copy(), column=\"City\")\n",
    "print(\"\\nData with Label Encoding:\")\n",
    "print(df_encoded)\n",
    "\n"
   ]
  },
  {
   "cell_type": "code",
   "execution_count": null,
   "metadata": {},
   "outputs": [],
   "source": []
  },
  {
   "cell_type": "code",
   "execution_count": 16,
   "metadata": {},
   "outputs": [
    {
     "ename": "KeyError",
     "evalue": "['age']",
     "output_type": "error",
     "traceback": [
      "\u001b[0;31m---------------------------------------------------------------------------\u001b[0m",
      "\u001b[0;31mKeyError\u001b[0m                                  Traceback (most recent call last)",
      "\u001b[0;32m/var/folders/bk/6_d8f02s6gzc_fhyg1tn55q00000gn/T/ipykernel_85165/674784811.py\u001b[0m in \u001b[0;36m?\u001b[0;34m()\u001b[0m\n\u001b[0;32m----> 1\u001b[0;31m \u001b[0md\u001b[0m \u001b[0;34m=\u001b[0m \u001b[0mclean_data\u001b[0m\u001b[0;34m(\u001b[0m\u001b[0mdf\u001b[0m\u001b[0;34m,\u001b[0m \u001b[0mremove_columns\u001b[0m\u001b[0;34m=\u001b[0m\u001b[0;34m[\u001b[0m\u001b[0;34m'age'\u001b[0m\u001b[0;34m]\u001b[0m \u001b[0;34m)\u001b[0m\u001b[0;34m\u001b[0m\u001b[0;34m\u001b[0m\u001b[0m\n\u001b[0m",
      "\u001b[0;32m~/Desktop/HDM139PRO/HPDM139_2/VisTool/wrangle.py\u001b[0m in \u001b[0;36m?\u001b[0;34m(data, remove_columns, fill_with, apply_to)\u001b[0m\n\u001b[1;32m     47\u001b[0m     \"\"\"\n\u001b[1;32m     48\u001b[0m     \u001b[0;32mif\u001b[0m \u001b[0mapply_to\u001b[0m \u001b[0;34m==\u001b[0m \u001b[0;34m\"columns\"\u001b[0m\u001b[0;34m:\u001b[0m\u001b[0;34m\u001b[0m\u001b[0;34m\u001b[0m\u001b[0m\n\u001b[1;32m     49\u001b[0m         \u001b[0;32mif\u001b[0m \u001b[0mremove_columns\u001b[0m\u001b[0;34m:\u001b[0m\u001b[0;34m\u001b[0m\u001b[0;34m\u001b[0m\u001b[0m\n\u001b[1;32m     50\u001b[0m             \u001b[0;31m# Drop rows with NaN in specific columns\u001b[0m\u001b[0;34m\u001b[0m\u001b[0;34m\u001b[0m\u001b[0m\n\u001b[0;32m---> 51\u001b[0;31m             \u001b[0mdata\u001b[0m \u001b[0;34m=\u001b[0m \u001b[0mdata\u001b[0m\u001b[0;34m.\u001b[0m\u001b[0mdropna\u001b[0m\u001b[0;34m(\u001b[0m\u001b[0msubset\u001b[0m\u001b[0;34m=\u001b[0m\u001b[0mremove_columns\u001b[0m\u001b[0;34m)\u001b[0m\u001b[0;34m.\u001b[0m\u001b[0mreset_index\u001b[0m\u001b[0;34m(\u001b[0m\u001b[0mdrop\u001b[0m\u001b[0;34m=\u001b[0m\u001b[0;32mTrue\u001b[0m\u001b[0;34m)\u001b[0m\u001b[0;34m\u001b[0m\u001b[0;34m\u001b[0m\u001b[0m\n\u001b[0m\u001b[1;32m     52\u001b[0m             \u001b[0mprint\u001b[0m\u001b[0;34m(\u001b[0m\u001b[0;34mf\"Rows with NaN in columns {remove_columns} were dropped.\"\u001b[0m\u001b[0;34m)\u001b[0m\u001b[0;34m\u001b[0m\u001b[0;34m\u001b[0m\u001b[0m\n\u001b[1;32m     53\u001b[0m \u001b[0;34m\u001b[0m\u001b[0m\n\u001b[1;32m     54\u001b[0m         \u001b[0;32melif\u001b[0m \u001b[0mfill_with\u001b[0m \u001b[0;34m==\u001b[0m \u001b[0;34m\"mean\"\u001b[0m \u001b[0;32mor\u001b[0m \u001b[0mfill_with\u001b[0m \u001b[0;34m==\u001b[0m \u001b[0;34m\"average\"\u001b[0m\u001b[0;34m:\u001b[0m\u001b[0;34m\u001b[0m\u001b[0;34m\u001b[0m\u001b[0m\n",
      "\u001b[0;32m/usr/local/Caskroom/miniconda/base/envs/hds_code/lib/python3.11/site-packages/pandas/core/frame.py\u001b[0m in \u001b[0;36m?\u001b[0;34m(self, axis, how, thresh, subset, inplace, ignore_index)\u001b[0m\n\u001b[1;32m   6666\u001b[0m             \u001b[0max\u001b[0m \u001b[0;34m=\u001b[0m \u001b[0mself\u001b[0m\u001b[0;34m.\u001b[0m\u001b[0m_get_axis\u001b[0m\u001b[0;34m(\u001b[0m\u001b[0magg_axis\u001b[0m\u001b[0;34m)\u001b[0m\u001b[0;34m\u001b[0m\u001b[0;34m\u001b[0m\u001b[0m\n\u001b[1;32m   6667\u001b[0m             \u001b[0mindices\u001b[0m \u001b[0;34m=\u001b[0m \u001b[0max\u001b[0m\u001b[0;34m.\u001b[0m\u001b[0mget_indexer_for\u001b[0m\u001b[0;34m(\u001b[0m\u001b[0msubset\u001b[0m\u001b[0;34m)\u001b[0m\u001b[0;34m\u001b[0m\u001b[0;34m\u001b[0m\u001b[0m\n\u001b[1;32m   6668\u001b[0m             \u001b[0mcheck\u001b[0m \u001b[0;34m=\u001b[0m \u001b[0mindices\u001b[0m \u001b[0;34m==\u001b[0m \u001b[0;34m-\u001b[0m\u001b[0;36m1\u001b[0m\u001b[0;34m\u001b[0m\u001b[0;34m\u001b[0m\u001b[0m\n\u001b[1;32m   6669\u001b[0m             \u001b[0;32mif\u001b[0m \u001b[0mcheck\u001b[0m\u001b[0;34m.\u001b[0m\u001b[0many\u001b[0m\u001b[0;34m(\u001b[0m\u001b[0;34m)\u001b[0m\u001b[0;34m:\u001b[0m\u001b[0;34m\u001b[0m\u001b[0;34m\u001b[0m\u001b[0m\n\u001b[0;32m-> 6670\u001b[0;31m                 \u001b[0;32mraise\u001b[0m \u001b[0mKeyError\u001b[0m\u001b[0;34m(\u001b[0m\u001b[0mnp\u001b[0m\u001b[0;34m.\u001b[0m\u001b[0marray\u001b[0m\u001b[0;34m(\u001b[0m\u001b[0msubset\u001b[0m\u001b[0;34m)\u001b[0m\u001b[0;34m[\u001b[0m\u001b[0mcheck\u001b[0m\u001b[0;34m]\u001b[0m\u001b[0;34m.\u001b[0m\u001b[0mtolist\u001b[0m\u001b[0;34m(\u001b[0m\u001b[0;34m)\u001b[0m\u001b[0;34m)\u001b[0m\u001b[0;34m\u001b[0m\u001b[0;34m\u001b[0m\u001b[0m\n\u001b[0m\u001b[1;32m   6671\u001b[0m             \u001b[0magg_obj\u001b[0m \u001b[0;34m=\u001b[0m \u001b[0mself\u001b[0m\u001b[0;34m.\u001b[0m\u001b[0mtake\u001b[0m\u001b[0;34m(\u001b[0m\u001b[0mindices\u001b[0m\u001b[0;34m,\u001b[0m \u001b[0maxis\u001b[0m\u001b[0;34m=\u001b[0m\u001b[0magg_axis\u001b[0m\u001b[0;34m)\u001b[0m\u001b[0;34m\u001b[0m\u001b[0;34m\u001b[0m\u001b[0m\n\u001b[1;32m   6672\u001b[0m \u001b[0;34m\u001b[0m\u001b[0m\n\u001b[1;32m   6673\u001b[0m         \u001b[0;32mif\u001b[0m \u001b[0mthresh\u001b[0m \u001b[0;32mis\u001b[0m \u001b[0;32mnot\u001b[0m \u001b[0mlib\u001b[0m\u001b[0;34m.\u001b[0m\u001b[0mno_default\u001b[0m\u001b[0;34m:\u001b[0m\u001b[0;34m\u001b[0m\u001b[0;34m\u001b[0m\u001b[0m\n",
      "\u001b[0;31mKeyError\u001b[0m: ['age']"
     ]
    }
   ],
   "source": [
    "d = clean_data(df, remove_columns=['age'] )"
   ]
  },
  {
   "cell_type": "markdown",
   "metadata": {},
   "source": [
    "### Interactive Variants"
   ]
  },
  {
   "cell_type": "code",
   "execution_count": 9,
   "metadata": {},
   "outputs": [],
   "source": [
    "import pandas as pd\n",
    "from VisTool.wrangle import (\n",
    "    clean_data_interactive,\n",
    "    filter_data_interactive,\n",
    "    rename_columns_interactive,\n",
    "    label_encode_interactive\n",
    ")\n",
    "\n",
    "data = pd.DataFrame({\n",
    "    'Name': ['Alice', 'Bob', 'Charlie', 'David'],\n",
    "    'Age': [25, 30, 35, None],\n",
    "    'Gender': ['Female', 'Male', 'Male', 'Female'],\n",
    "    'Score': [88, 92, 85, None]\n",
    "})\n"
   ]
  },
  {
   "cell_type": "markdown",
   "metadata": {},
   "source": [
    "\n",
    "### 1. Clean the dataset interactively\n",
    "\n",
    "clean_data_interactive(data)\n",
    "\n",
    "How to use:\n",
    "• Select columns to remove using the Remove Columns dropdown.\n",
    "\n",
    "• Choose “mean” or “average” to fill NaN values in numeric columns.\n",
    "\n",
    "• Specify whether to apply changes to columns or rows using the Apply To dropdown.\n",
    "\n",
    "• Click Apply Cleaning to see the updated dataset.\n"
   ]
  },
  {
   "cell_type": "code",
   "execution_count": 11,
   "metadata": {},
   "outputs": [
    {
     "data": {
      "application/vnd.jupyter.widget-view+json": {
       "model_id": "5bc88f0a3c544592bf82d075a4c0058d",
       "version_major": 2,
       "version_minor": 0
      },
      "text/plain": [
       "SelectMultiple(description='Remove Columns:', options=('Name', 'Age', 'Gender', 'Score'), value=())"
      ]
     },
     "metadata": {},
     "output_type": "display_data"
    },
    {
     "data": {
      "application/vnd.jupyter.widget-view+json": {
       "model_id": "4ba7360725f04ea1af225fec9df379a0",
       "version_major": 2,
       "version_minor": 0
      },
      "text/plain": [
       "Dropdown(description='Fill With:', options=('None', 'mean', 'average'), value='None')"
      ]
     },
     "metadata": {},
     "output_type": "display_data"
    },
    {
     "data": {
      "application/vnd.jupyter.widget-view+json": {
       "model_id": "f82df167b06c4684a167e0042b7f66a2",
       "version_major": 2,
       "version_minor": 0
      },
      "text/plain": [
       "Dropdown(description='Apply To:', options=('columns', 'rows'), value='columns')"
      ]
     },
     "metadata": {},
     "output_type": "display_data"
    },
    {
     "data": {
      "application/vnd.jupyter.widget-view+json": {
       "model_id": "cf9fb778b7f045aea97eb6171e5c95bd",
       "version_major": 2,
       "version_minor": 0
      },
      "text/plain": [
       "Button(description='Apply Cleaning', style=ButtonStyle())"
      ]
     },
     "metadata": {},
     "output_type": "display_data"
    }
   ],
   "source": [
    "\n",
    "clean_data_interactive(data)"
   ]
  },
  {
   "cell_type": "markdown",
   "metadata": {},
   "source": [
    "\n",
    "### 2. Filter the dataset interactively\n",
    "\n",
    "filter_data_interactive(data)\n",
    "\n",
    "How to use:\n",
    "\n",
    "• Enter a condition to filter rows in the Condition text box (e.g., Age > 30 or Gender == 'Female').\n",
    "\n",
    "• Click Apply Filter to view the filtered dataset.\n"
   ]
  },
  {
   "cell_type": "code",
   "execution_count": 7,
   "metadata": {},
   "outputs": [
    {
     "data": {
      "application/vnd.jupyter.widget-view+json": {
       "model_id": "70f11a238d4c4749abf47e99e7ac827d",
       "version_major": 2,
       "version_minor": 0
      },
      "text/plain": [
       "Text(value='', description='Condition:', placeholder='Enter condition (e.g., Age > 30)')"
      ]
     },
     "metadata": {},
     "output_type": "display_data"
    },
    {
     "data": {
      "application/vnd.jupyter.widget-view+json": {
       "model_id": "ae514f6ffed847b19be0e79853a032a5",
       "version_major": 2,
       "version_minor": 0
      },
      "text/plain": [
       "Button(description='Apply Filter', style=ButtonStyle())"
      ]
     },
     "metadata": {},
     "output_type": "display_data"
    }
   ],
   "source": [
    "filter_data_interactive(data)"
   ]
  },
  {
   "cell_type": "markdown",
   "metadata": {},
   "source": [
    "\n",
    "### 3. Rename columns interactively\n",
    "\n",
    "rename_columns_interactive(data)\n",
    "\n",
    "How to use:\n",
    "• Enter mappings for column renaming in the format old_name:new_name (e.g., Name:Full_Name,Score:Test_Score).\n",
    "\n",
    "• Click Apply Rename to see the dataset with renamed columns.\n"
   ]
  },
  {
   "cell_type": "code",
   "execution_count": 8,
   "metadata": {},
   "outputs": [
    {
     "data": {
      "application/vnd.jupyter.widget-view+json": {
       "model_id": "c20c275ace374c5cb7f942f6a8c9102d",
       "version_major": 2,
       "version_minor": 0
      },
      "text/plain": [
       "Text(value='', description='Mappings:', placeholder='Enter mappings (e.g., old:new,age:years)')"
      ]
     },
     "metadata": {},
     "output_type": "display_data"
    },
    {
     "data": {
      "application/vnd.jupyter.widget-view+json": {
       "model_id": "2f98c81864eb4640bcf3990841598df6",
       "version_major": 2,
       "version_minor": 0
      },
      "text/plain": [
       "Button(description='Apply Rename', style=ButtonStyle())"
      ]
     },
     "metadata": {},
     "output_type": "display_data"
    }
   ],
   "source": [
    "rename_columns_interactive(data)"
   ]
  },
  {
   "cell_type": "markdown",
   "metadata": {},
   "source": [
    "\n",
    "### 4. Apply label encoding interactively\n",
    "\n",
    "label_encode_interactive(data)\n",
    "\n",
    "How to use:\n",
    "\n",
    "• Select a categorical column (e.g., Gender) from the Column dropdown.\n",
    "\n",
    "• Click Apply Encoding to view the dataset with the selected column label-encoded.\n"
   ]
  },
  {
   "cell_type": "code",
   "execution_count": 4,
   "metadata": {},
   "outputs": [
    {
     "data": {
      "application/vnd.jupyter.widget-view+json": {
       "model_id": "9fc25ad2541b48dfb0258c7dca94d32f",
       "version_major": 2,
       "version_minor": 0
      },
      "text/plain": [
       "Dropdown(description='Column:', options=('Name', 'Age', 'Gender', 'Score'), value='Name')"
      ]
     },
     "metadata": {},
     "output_type": "display_data"
    },
    {
     "data": {
      "application/vnd.jupyter.widget-view+json": {
       "model_id": "7191386b7e12450ea66f08cf8246f0aa",
       "version_major": 2,
       "version_minor": 0
      },
      "text/plain": [
       "Button(description='Apply Encoding', style=ButtonStyle())"
      ]
     },
     "metadata": {},
     "output_type": "display_data"
    }
   ],
   "source": [
    "label_encode_interactive(data)"
   ]
  },
  {
   "cell_type": "markdown",
   "metadata": {},
   "source": [
    "## Visualize Module Usage Example"
   ]
  },
  {
   "cell_type": "code",
   "execution_count": null,
   "metadata": {},
   "outputs": [],
   "source": [
    "# Import visualize module functions\n",
    "from VisTool.visualize import plot_histogram, plot_scatter, plot_correlation_matrix\n",
    "\n",
    "# Example 1: Plot Histogram\n",
    "data = pd.DataFrame({\"A\": [1, 2, 2, 3, 3, 3]})\n",
    "plot_histogram(data, \"A\")\n",
    "\n",
    "# Example 2: Plot Scatter\n",
    "scatter_data = pd.DataFrame({\"X\": [1, 2, 3], \"Y\": [3, 2, 1]})\n",
    "plot_scatter(scatter_data, \"X\", \"Y\")\n",
    "\n",
    "# Example 3: Plot Correlation Matrix\n",
    "correlation_data = pd.DataFrame({\"A\": [1, 2, 3], \"B\": [4, 5, 6], \"C\": [7, 8, 9]})\n",
    "plot_correlation_matrix(correlation_data)"
   ]
  },
  {
   "cell_type": "code",
   "execution_count": null,
   "metadata": {},
   "outputs": [],
   "source": []
  },
  {
   "cell_type": "code",
   "execution_count": null,
   "metadata": {},
   "outputs": [],
   "source": []
  }
 ],
 "metadata": {
  "kernelspec": {
   "display_name": "pypi_package_dev",
   "language": "python",
   "name": "python3"
  },
  "language_info": {
   "codemirror_mode": {
    "name": "ipython",
    "version": 3
   },
   "file_extension": ".py",
   "mimetype": "text/x-python",
   "name": "python",
   "nbconvert_exporter": "python",
   "pygments_lexer": "ipython3",
   "version": "3.11.11"
  }
 },
 "nbformat": 4,
 "nbformat_minor": 2
}
