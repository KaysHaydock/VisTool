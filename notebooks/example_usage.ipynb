{
 "cells": [
  {
   "cell_type": "markdown",
   "metadata": {},
   "source": [
    "# VisTool Package Example and Usage\n",
    "\n",
    "This Jupyter Notebook demonstrates how to use the `VisTool` for downloading data, combining datasets, cleaning and wrangling data and visualizing results. Each module in the VisTool provides specific functionalities to streamline data analysis workflows.\n",
    "\n",
    "## Prerequisites\n",
    "Before using this notebook, ensure the following:\n",
    "1. The `vistool` is correctly installed in your Python environment.\n",
    "\n",
    "## Download Module\n",
    "\n",
    "The `download` module helps retrieve files from the web and load CSV data into Pandas DataFrames for analysis.\n",
    "\n",
    "### Features\n",
    "1. `download_file`: Retrieve a file from a URL and save it to a specified local path.\n",
    "2. `download_csv`: Downloads a CSV file directly from a URL into a Pandas DataFrame.\n",
    "3. `load_csv`: Loads a CSV file into a Pandas DataFrame from local path.\n",
    "4. `load_excel`: Load excel file into a Pandas DataFrame from local path.\n",
    "5. `summerize_data`: Summarises key aspects of the dataset and provides an overview of its structure.\n",
    "\n",
    "---\n",
    "\n",
    "## Combine Module\n",
    "\n",
    "The `combine` module provides functionality to merge or concatenate datasets.\n",
    "\n",
    "### Features\n",
    "1. `merge_datasets`: Combine two datasets based on a common column with options for join types (`inner`, `outer`, etc.).\n",
    "2. `concat_datasets`: Append multiple datasets along rows or columns.\n",
    "\n",
    "---\n",
    "\n",
    "## Wrangle Module\n",
    "\n",
    "The `wrangle` module supports data cleaning, filtering, and column renaming to prepare datasets for analysis.\n",
    "\n",
    "### Features\n",
    "1. `clean_data`: Handle missing values by filling them with means, removing rows/columns, or keeping them unchanged.\n",
    "2. `filter_data`: Filter rows based on user-defined conditions.\n",
    "3. `rename_columns`: Rename dataset columns for clarity or standardisation.\n",
    "4. `label_encode` : Perform label encoding on a categorical column using Pandas and NumPy.\n",
    "\n",
    "---\n",
    "\n",
    "## Visualize Module\n",
    "\n",
    "The `visualize` module facilitates data visualization using Matplotlib and Seaborn.\n",
    "\n",
    "### Features\n",
    "1. `plot_histogram`: Plots a histogram of a column.\n",
    "2. `plt_scatter`: Creates a scatter plot of two columns.\n",
    "3. `plot_correlation_matrix`: Plots a heatmap of correlations between numeric columns.\n",
    "4. `plot_line`: Plots a line chart for time-series data.\n",
    "5. `plot_overlay`: Overlays multiple columns with different plot types.\n",
    "\n",
    "---\n",
    "\n",
    "## Structure\n",
    "Each module is demonstrated with relevant examples, including step-by-step code and explanations, making it easy to adapt for your own analysis. "
   ]
  },
  {
   "cell_type": "markdown",
   "metadata": {},
   "source": [
    "**Checking the package information:**"
   ]
  },
  {
   "cell_type": "code",
   "execution_count": null,
   "metadata": {},
   "outputs": [],
   "source": [
    "# Check details on the package\n",
    "import vistool\n",
    "print(vistool.__version__)\n",
    "print(vistool.__name__)\n",
    "print(vistool.__author__)"
   ]
  },
  {
   "cell_type": "markdown",
   "metadata": {},
   "source": [
    "**Imports to be ran before modules:**"
   ]
  },
  {
   "cell_type": "code",
   "execution_count": 2,
   "metadata": {},
   "outputs": [],
   "source": [
    "# Imports to run before running individual codeblocks below\n",
    "import os\n",
    "import pandas as pd\n",
    "import matplotlib.pyplot as plt"
   ]
  },
  {
   "cell_type": "markdown",
   "metadata": {},
   "source": [
    "**Download Module**"
   ]
  },
  {
   "cell_type": "markdown",
   "metadata": {},
   "source": [
    "Example 1: Downloading File"
   ]
  },
  {
   "cell_type": "code",
   "execution_count": null,
   "metadata": {},
   "outputs": [],
   "source": [
    "# Import the download functions\n",
    "from vistool.download import (\n",
    "    download_file,\n",
    "    download_csv, \n",
    "    load_csv,\n",
    "    load_excel, \n",
    "    summarize_data\n",
    ")\n",
    "import os\n",
    "\n",
    "# Download a file and save it locally\n",
    "url = \"https://people.sc.fsu.edu/~jburkardt/data/csv/airtravel.csv\"\n",
    "save_path = \"data/airtravel.csv\"\n",
    "\n",
    "# Create the directory if it doesn't exist\n",
    "os.makedirs(os.path.dirname(save_path), exist_ok=True)\n",
    "\n",
    "# Download the file\n",
    "download_file(url, save_path)\n",
    "\n",
    "# Verify the file is saved\n",
    "if os.path.exists(save_path):\n",
    "    print(f\"File downloaded successfully and saved to: {save_path}\")\n",
    "else:\n",
    "    print(\"Failed to download the file.\")\n"
   ]
  },
  {
   "cell_type": "markdown",
   "metadata": {},
   "source": [
    "Example 2: Downloading CSV"
   ]
  },
  {
   "cell_type": "code",
   "execution_count": null,
   "metadata": {},
   "outputs": [],
   "source": [
    "#  Download a CSV file and load into Pandas DataFrame\n",
    "url = \"https://people.sc.fsu.edu/~jburkardt/data/csv/airtravel.csv\"\n",
    "df = download_csv(url)\n",
    "\n",
    "# Display the first few rows of the DataFrame\n",
    "print(\"Downloaded CSV Data:\")\n",
    "print(df.head())"
   ]
  },
  {
   "cell_type": "markdown",
   "metadata": {},
   "source": [
    "Example 3: Load a CSV"
   ]
  },
  {
   "cell_type": "code",
   "execution_count": null,
   "metadata": {},
   "outputs": [],
   "source": [
    "#Load csv file \n",
    "df = load_csv('data/Monthly_AE_Attendances_Nov_2024.csv')\n",
    "df.head(5)"
   ]
  },
  {
   "cell_type": "markdown",
   "metadata": {},
   "source": [
    "Example 4: Load an Excel File"
   ]
  },
  {
   "cell_type": "code",
   "execution_count": null,
   "metadata": {},
   "outputs": [],
   "source": [
    "# Load_excel file \n",
    "df_dict = load_excel('data/titanic3.xls')\n",
    "print(type(df_dict))  # Output: <class 'dict'>\n",
    "print(df_dict.keys())  # Output: dict_keys(['Sheet1', 'Sheet2', ...])"
   ]
  },
  {
   "cell_type": "code",
   "execution_count": null,
   "metadata": {},
   "outputs": [],
   "source": [
    "df = df_dict['titanic3']  # Access the DataFrame for the 'titanic3' sheet\n",
    "print(df.head(5))  # Display the first 5 rows of the DataFrame"
   ]
  },
  {
   "cell_type": "markdown",
   "metadata": {},
   "source": [
    "Example 5: Summerize Data"
   ]
  },
  {
   "cell_type": "code",
   "execution_count": null,
   "metadata": {},
   "outputs": [],
   "source": [
    "# Summary of the data \n",
    "df = load_csv('data/monthly_ae_attendances_nov_2024.csv')\n",
    "summarize_data(df)"
   ]
  },
  {
   "cell_type": "markdown",
   "metadata": {},
   "source": [
    "**Combine Module**"
   ]
  },
  {
   "cell_type": "markdown",
   "metadata": {},
   "source": [
    "Example 1: Inner Join"
   ]
  },
  {
   "cell_type": "code",
   "execution_count": null,
   "metadata": {},
   "outputs": [],
   "source": [
    "# Import combine module functions\n",
    "from vistool.combine import merge_datasets, concat_datasets\n",
    "\n",
    "#Example 1: Inner Join\n",
    "# Sample data\n",
    "data1 = {'id': [1, 2, 3], 'name': ['Alice', 'Bob', 'Charlie']}\n",
    "data2 = {'id': [2, 3, 4], 'age': [25, 30, 35]}\n",
    "\n",
    "df1 = pd.DataFrame(data1)\n",
    "df2 = pd.DataFrame(data2)\n",
    "\n",
    "# Merge Datasets Inner Join\n",
    "merged_data = merge_datasets(df1, df2, on=\"id\", how=\"inner\")\n",
    "print(merged_data)"
   ]
  },
  {
   "cell_type": "markdown",
   "metadata": {},
   "source": [
    "Example 2: Outer Join"
   ]
  },
  {
   "cell_type": "code",
   "execution_count": null,
   "metadata": {},
   "outputs": [],
   "source": [
    "# Example 2: Merge datasets Outer Join\n",
    "merged_data = merge_datasets(df1, df2, on=\"id\", how=\"outer\")\n",
    "print(merged_data)"
   ]
  },
  {
   "cell_type": "markdown",
   "metadata": {},
   "source": [
    "Example 3: Concatenate Rows"
   ]
  },
  {
   "cell_type": "code",
   "execution_count": null,
   "metadata": {},
   "outputs": [],
   "source": [
    "# Example 3: Concatenating Row-Wise\n",
    "\n",
    "# Sample data\n",
    "df1 = pd.DataFrame({'id': [1, 2], 'name': ['Alice', 'Bob']})\n",
    "df2 = pd.DataFrame({'id': [3, 4], 'name': ['Charlie', 'David']})\n",
    "\n",
    "# Concatenate row-wise\n",
    "concatenated_data = concat_datasets([df1, df2], axis=0)\n",
    "print(concatenated_data)"
   ]
  },
  {
   "cell_type": "markdown",
   "metadata": {},
   "source": [
    "Example 4: Concatenate Columns"
   ]
  },
  {
   "cell_type": "code",
   "execution_count": null,
   "metadata": {},
   "outputs": [],
   "source": [
    "# Concatenate column-wise\n",
    "concatenated_data = concat_datasets([df1, df2], axis=1)\n",
    "print(concatenated_data)"
   ]
  },
  {
   "cell_type": "markdown",
   "metadata": {},
   "source": [
    "**Wrangle Module**"
   ]
  },
  {
   "cell_type": "markdown",
   "metadata": {},
   "source": [
    "Example 1: Drop Rows with NaNs"
   ]
  },
  {
   "cell_type": "code",
   "execution_count": null,
   "metadata": {},
   "outputs": [],
   "source": [
    "# Import wrangle module functions\n",
    "from vistool.wrangle import (\n",
    "    clean_data, \n",
    "    filter_data, \n",
    "    rename_columns, \n",
    "    label_encode\n",
    ")\n",
    "\n",
    "data1 = pd.DataFrame({\n",
    "    \"A\": [1, 2, None, 4],\n",
    "    \"B\": [5, None, 7, 8],\n",
    "    \"C\": [9, 10, 11, 12]\n",
    "})\n",
    "\n",
    "# Clean the Data\n",
    "# Example 1: Drop rows with NaN values in specific columns in column 'A'\n",
    "print(\"Original Data:\")\n",
    "print(data1)\n",
    "\n",
    "cleaned_data1 = clean_data(data1, remove_columns=[\"A\"])\n",
    "print(\"\\nCleaned Data (Dropped rows with NaN in column 'A'):\")\n",
    "print(cleaned_data1)"
   ]
  },
  {
   "cell_type": "markdown",
   "metadata": {},
   "source": [
    "Example 2: Fill NaN with Column Mean"
   ]
  },
  {
   "cell_type": "code",
   "execution_count": null,
   "metadata": {},
   "outputs": [],
   "source": [
    "# Example 2: Fill NaN values with column mean\n",
    "data2 = pd.DataFrame({\n",
    "    \"X\": [1, None, 3, 4],\n",
    "    \"Y\": [None, 6, 7, None],\n",
    "    \"Z\": [9, 10, None, None]\n",
    "})\n",
    "\n",
    "print(\"\\nOriginal Data:\")\n",
    "print(data2)\n",
    "\n",
    "# Clean data by filling NaN values with column mean\n",
    "cleaned_data2 = clean_data(data2, fill_with=\"mean\")\n",
    "print(\"\\nCleaned Data (Filled NaN with column mean):\")\n",
    "print(cleaned_data2)"
   ]
  },
  {
   "cell_type": "markdown",
   "metadata": {},
   "source": [
    "Example 3: Fill NaN with Row Mean"
   ]
  },
  {
   "cell_type": "code",
   "execution_count": null,
   "metadata": {},
   "outputs": [],
   "source": [
    "# Example 3: Fill NaN values with the row mean\n",
    "data3 = pd.DataFrame({\n",
    "    \"P\": [1, None, 3],\n",
    "    \"Q\": [4, 5, None],\n",
    "    \"R\": [None, 7, 8]\n",
    "})\n",
    "\n",
    "print(\"\\nOriginal Data:\")\n",
    "print(data3)\n",
    "\n",
    "# Clean data by filling NaN values with row mean\n",
    "cleaned_data3 = clean_data(data3, fill_with=\"mean\", apply_to=\"rows\")\n",
    "print(\"\\nCleaned Data (Filled NaN with row mean):\")\n",
    "print(cleaned_data3)"
   ]
  },
  {
   "cell_type": "markdown",
   "metadata": {},
   "source": [
    "Example 4: Drop Rows with NaNs"
   ]
  },
  {
   "cell_type": "code",
   "execution_count": null,
   "metadata": {},
   "outputs": [],
   "source": [
    "# Example 4: Drop rows with any NaN values (default)\n",
    "data4 = pd.DataFrame({\n",
    "    \"U\": [1, 2, None, 4],\n",
    "    \"V\": [None, 5, 6, 7]\n",
    "})\n",
    "\n",
    "print(\"\\nOriginal Data:\")\n",
    "print(data4)\n",
    "\n",
    "# Clean data by dropping rows with any NaN values\n",
    "cleaned_data4 = clean_data(data4)\n",
    "print(\"\\nCleaned Data (Dropped rows with any NaN values):\")\n",
    "print(cleaned_data4)"
   ]
  },
  {
   "cell_type": "markdown",
   "metadata": {},
   "source": [
    "Example 5: Filtering Data"
   ]
  },
  {
   "cell_type": "code",
   "execution_count": null,
   "metadata": {},
   "outputs": [],
   "source": [
    "# Example 5: Filtering Data\n",
    "# Only include customers aged over 30 who have made more than 5 purchases\n",
    "\n",
    "# A customer dataset\n",
    "data = pd.DataFrame({\n",
    "    'Customer_ID': [101, 102, 103, 104, None, 106, 107, 108],\n",
    "    'Age': [25, 30, 35, None, 40, None, 45, 50],\n",
    "    'Gender': [\n",
    "        'Male', 'Female', 'Female', 'Male', \n",
    "        'Female', 'Male', 'Female', 'Male'\n",
    "    ],\n",
    "    'Annual_Income': [\n",
    "        50000, None, 70000, 80000, \n",
    "        60000, 90000, None, 100000\n",
    "    ],\n",
    "    'Purchase_History': \n",
    "        [3, 5, None, 7, \n",
    "         8, 9, 6, 2\n",
    "    ],\n",
    "    'City': ['NY', 'LA', 'SF', 'LA', 'NY', 'SF', 'LA', 'NY'],\n",
    "    'Customer_Type': [\n",
    "        'Regular', 'VIP', 'Regular', 'VIP', \n",
    "        'Regular', 'Regular', 'VIP', 'Regular'\n",
    "    ]\n",
    "})\n",
    "\n",
    "filtered_data = filter_data(data, \"Age > 30 and Purchase_History > 5\")\n",
    "\n",
    "filtered_data"
   ]
  },
  {
   "cell_type": "markdown",
   "metadata": {},
   "source": [
    "Example 6: Renaming Columns"
   ]
  },
  {
   "cell_type": "code",
   "execution_count": null,
   "metadata": {},
   "outputs": [],
   "source": [
    "# Example 6: Renaming Columns\n",
    "# Rename 'Customer_Type' -> 'Customer_Category' \n",
    "# &'Purchase_History' -> 'Purchases_Made'\n",
    "\n",
    "renamed_data = rename_columns(\n",
    "    data, \n",
    "    {\n",
    "    'Customer_Type': 'Customer_Category', \n",
    "    'Purchase_History': 'Purchases_Made'\n",
    "    }\n",
    ")\n",
    "renamed_data"
   ]
  },
  {
   "cell_type": "markdown",
   "metadata": {},
   "source": [
    "Example 7: Label Encoding"
   ]
  },
  {
   "cell_type": "code",
   "execution_count": null,
   "metadata": {},
   "outputs": [],
   "source": [
    "# Example 7: Label Encoding\n",
    "# 'Gender' and 'Customer_Type' columns\n",
    "# Convert 'Gender' (Male/Female) to 0/1 & 'Customer_Type' (Regular/VIP) to 0/1\n",
    "\n",
    "encoded_data = label_encode(data, 'Gender')\n",
    "encoded_data = label_encode(data, 'Customer_Type')\n",
    "\n",
    "# Display the final wrangled dataset\n",
    "print(\"Final Data After Wrangling:\")\n",
    "encoded_data"
   ]
  },
  {
   "cell_type": "markdown",
   "metadata": {},
   "source": [
    "**Visualize Module**"
   ]
  },
  {
   "cell_type": "markdown",
   "metadata": {},
   "source": [
    "Example 1: Histogram"
   ]
  },
  {
   "cell_type": "code",
   "execution_count": null,
   "metadata": {},
   "outputs": [],
   "source": [
    "# Importing visualization functions from visualize.py\n",
    "from vistool.visualize import (\n",
    "    plot_histogram, \n",
    "    plot_scatter, \n",
    "    plot_correlation_matrix, \n",
    "    plot_line, \n",
    "    plot_overlay\n",
    ")\n",
    "\n",
    "# Example dataset\n",
    "data1 = pd.DataFrame({\n",
    "    \"Age(Years)\": [25, 30, 35, 40, 45, 50, 55, 60, 65, 70],\n",
    "    \"Cholesterol(mmol/L)\": [1, 2, 7, 5, 3, 5, 5.2, 1.3, 4.8, 9.9]\n",
    "})\n",
    "\n",
    "# Example 1: Plot a histogram for the \"Age\" column\n",
    "print(\"Dataset for Histogram:\")\n",
    "print(data1)\n",
    "\n",
    "plot_histogram(data1, column=\"Age(Years)\")\n",
    "\n",
    "# Save the histogram to a file\n",
    "plot_histogram(data1, column=\"Age(Years)\", save_path=\"age_histogram.png\")"
   ]
  },
  {
   "cell_type": "markdown",
   "metadata": {},
   "source": [
    "Example 2: Scatter Plot"
   ]
  },
  {
   "cell_type": "code",
   "execution_count": null,
   "metadata": {},
   "outputs": [],
   "source": [
    "# Example 2: Plot a scatter plot between \"Age(Years)\" and \"Cholesterol(mmol/L)\"\n",
    "plot_scatter(\n",
    "    data1, \n",
    "    x_column=\"Age(Years)\", \n",
    "    y_column=\"Cholesterol(mmol/L)\"\n",
    ")\n",
    "\n",
    "# Save the scatter plot to a file\n",
    "plot_scatter(\n",
    "    data1, \n",
    "    x_column=\"Age(Years)\", \n",
    "    y_column=\"Cholesterol(mmol/L)\", save_path=\"age_vs_cholesterol.png\"\n",
    ")"
   ]
  },
  {
   "cell_type": "markdown",
   "metadata": {},
   "source": [
    "Example 3: Correlation Matrix"
   ]
  },
  {
   "cell_type": "code",
   "execution_count": null,
   "metadata": {},
   "outputs": [],
   "source": [
    "# Example 3: Dataset for correlation matrix\n",
    "data2 = pd.DataFrame({\n",
    "    \"Weight (KG)\": [50, 90, 88, 47, 61],\n",
    "    \"Height (CM)\": [161, 185, 175, 150, 154]\n",
    "})\n",
    "\n",
    "print(\"Dataset for Correlation Matrix:\")\n",
    "print(data2)\n",
    "\n",
    "# Show plot\n",
    "plot_correlation_matrix(data2)"
   ]
  },
  {
   "cell_type": "code",
   "execution_count": null,
   "metadata": {},
   "outputs": [],
   "source": [
    "# Example 3a: Dataset for correlation matrix with a known error\n",
    "data2 = pd.DataFrame({\n",
    "    \"Weight (KG)\": [50, 90, 88, 47, 61],\n",
    "    \"Height (CM)\": [161, 185, 175, 150, 154],\n",
    "    \"Male\": [\"string\", 2, 1, \"vvv\", \"sss\"]\n",
    "})\n",
    "\n",
    "print(\"Dataset for Correlation Matrix:\")\n",
    "print(data2)\n",
    "\n",
    "# Optionally, save the correlation matrix to a file\n",
    "plot_correlation_matrix(data2, save_path=\"correlation_matrix.png\")"
   ]
  },
  {
   "cell_type": "markdown",
   "metadata": {},
   "source": [
    "Example 4: Line Plot"
   ]
  },
  {
   "cell_type": "code",
   "execution_count": null,
   "metadata": {},
   "outputs": [],
   "source": [
    "# Example 4: Dataset for line plot\n",
    "data3 = pd.DataFrame({\n",
    "    \"Date\": pd.date_range(start=\"2024-10-01\", periods=10, freq=\"D\"),\n",
    "    \"Age_At_Admission\": [30, 32, 34, 33, 31, 29, 28, 30, 31, 32]\n",
    "})\n",
    "\n",
    "print(\"Dataset for Line Plot:\")\n",
    "print(data3)\n",
    "\n",
    "# Plot a line chart for \"Date\" vs \"Age_At_Admission\"\n",
    "plot_line(data3, x_column=\"Date\", y_column=\"Age_At_Admission\")\n",
    "\n",
    "# Save the line chart to a file\n",
    "plot_line(\n",
    "    data3, \n",
    "    x_column=\"Date\", \n",
    "    y_column=\"Age_At_Admission\", \n",
    "    save_path=\"age_at_admission_line.png\"\n",
    ")"
   ]
  },
  {
   "cell_type": "markdown",
   "metadata": {},
   "source": [
    "Example 5: Overlay Plot"
   ]
  },
  {
   "cell_type": "code",
   "execution_count": null,
   "metadata": {},
   "outputs": [],
   "source": [
    "# Example 5: Dataset for overlay plot\n",
    "data4 = pd.DataFrame({\n",
    "    \"Male(1)_vs_Female(2)\": [1, 2, 2, 1, 1],\n",
    "    \"Age\": [80, 90, 22, 38, 87],\n",
    "    \"Month\": [\"Jan\", \"Feb\", \"Mar\", \"Apr\", \"May\"]\n",
    "})\n",
    "\n",
    "data4.set_index(\"Month\", inplace=True)\n",
    "\n",
    "print(\"Dataset for Overlay Plot:\")\n",
    "print(data4)\n",
    "\n",
    "# Overlay A&E data for Product A (line) and Product B (bar)\n",
    "plot_overlay(\n",
    "    data=data4, \n",
    "    columns=[\"Male(1)_vs_Female(2)\", \"Age\"], \n",
    "    plot_types=[\"line\", \"bar\"], \n",
    "    title=\"A&E Attendance Data\"\n",
    ")\n",
    "\n",
    "# Save the overlay plot to a file\n",
    "plot_overlay(\n",
    "    data=data4, \n",
    "    columns=[\"Male(1)_vs_Female(2)\", \"Age\"], \n",
    "    plot_types=[\"line\", \"bar\"], \n",
    "    title=\"A&E Attendance Data Overlay\", \n",
    "    save_path=\"a_and_e_attendances.png\"\n",
    ")"
   ]
  }
 ],
 "metadata": {
  "kernelspec": {
   "display_name": "vistool_env",
   "language": "python",
   "name": "python3"
  },
  "language_info": {
   "codemirror_mode": {
    "name": "ipython",
    "version": 3
   },
   "file_extension": ".py",
   "mimetype": "text/x-python",
   "name": "python",
   "nbconvert_exporter": "python",
   "pygments_lexer": "ipython3",
   "version": "3.11.11"
  }
 },
 "nbformat": 4,
 "nbformat_minor": 4
}
