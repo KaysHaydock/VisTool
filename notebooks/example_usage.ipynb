{
 "cells": [
  {
   "cell_type": "markdown",
   "metadata": {},
   "source": [
    "# VisTool Package Example and Usage\n",
    "\n",
    "This Jupyter Notebook demonstrates how to use the `VisTool` for downloading data, combining datasets, cleaning and wrangling data and visualizing results. Each module in the VisTool provides specific functionalities to streamline data analysis workflows.\n",
    "\n",
    "## Prerequisites\n",
    "Before using this notebook, ensure the following:\n",
    "1. The `vistool` is correctly installed in your Python environment.\n",
    "\n",
    "## Download Module\n",
    "\n",
    "The `download` module helps retrieve files from the web and load CSV data into Pandas DataFrames for analysis.\n",
    "\n",
    "### Features\n",
    "1. `download_file`: Retrieve a file from a URL and save it to a specified local path.\n",
    "2. `download_csv`: Downloads a CSV file directly from a URL into a Pandas DataFrame.\n",
    "3. `load_csv`: Loads a CSV file into a Pandas DataFrame from local path.\n",
    "4. `load_excel`: Load excel file into a Pandas DataFrame from local path.\n",
    "5. `summerize_data`: Summarises key aspects of the dataset and provides an overview of its structure.\n",
    "\n",
    "---\n",
    "\n",
    "## Combine Module\n",
    "\n",
    "The `combine` module provides functionality to merge or concatenate datasets.\n",
    "\n",
    "### Features\n",
    "1. `merge_datasets`: Combine two datasets based on a common column with options for join types (`inner`, `outer`, etc.).\n",
    "2. `concat_datasets`: Append multiple datasets along rows or columns.\n",
    "\n",
    "---\n",
    "\n",
    "## Wrangle Module\n",
    "\n",
    "The `wrangle` module supports data cleaning, filtering, and column renaming to prepare datasets for analysis.\n",
    "\n",
    "### Features\n",
    "1. `clean_data`: Handle missing values by filling them with means, removing rows/columns, or keeping them unchanged.\n",
    "2. `filter_data`: Filter rows based on user-defined conditions.\n",
    "3. `rename_columns`: Rename dataset columns for clarity or standardisation.\n",
    "4. `label_encode` : Perform label encoding on a categorical column using Pandas and NumPy.\n",
    "\n",
    "---\n",
    "\n",
    "## Visualize Module\n",
    "\n",
    "The `visualize` module facilitates data visualization using Matplotlib and Seaborn.\n",
    "\n",
    "### Features\n",
    "1. `plot_histogram`: Plots a histogram of a column.\n",
    "2. `plt_scatter`: Creates a scatter plot of two columns.\n",
    "3. `plot_correlation_matrix`: Plots a heatmap of correlations between numeric columns.\n",
    "4. `plot_line`: Plots a line chart for time-series data.\n",
    "5. `plot_overlay`: Overlays multiple columns with different plot types.\n",
    "\n",
    "---\n",
    "\n",
    "## Structure\n",
    "Each module is demonstrated with relevant examples, including step-by-step code and explanations, making it easy to adapt for your own analysis. "
   ]
  },
  {
   "cell_type": "markdown",
   "metadata": {},
   "source": [
    "**Checking the package information:**"
   ]
  },
  {
   "cell_type": "code",
   "execution_count": 1,
   "metadata": {},
   "outputs": [
    {
     "name": "stdout",
     "output_type": "stream",
     "text": [
      "1.0.0\n",
      "vistool\n",
      "Guled Abdullahi and Kayleigh Haydock\n"
     ]
    }
   ],
   "source": [
    "# Check details on the package\n",
    "import vistool\n",
    "print(vistool.__version__)\n",
    "print(vistool.__name__)\n",
    "print(vistool.__author__)"
   ]
  },
  {
   "cell_type": "markdown",
   "metadata": {},
   "source": [
    "**Imports to be ran before modules:**"
   ]
  },
  {
   "cell_type": "code",
   "execution_count": 2,
   "metadata": {},
   "outputs": [],
   "source": [
    "# Imports to run before running individual codeblocks below\n",
    "import os\n",
    "import pandas as pd\n",
    "import matplotlib.pyplot as plt"
   ]
  },
  {
   "cell_type": "markdown",
   "metadata": {},
   "source": [
    "**Download Module**"
   ]
  },
  {
   "cell_type": "markdown",
   "metadata": {},
   "source": [
    "Example 1: Downloading File"
   ]
  },
  {
   "cell_type": "code",
   "execution_count": 3,
   "metadata": {},
   "outputs": [
    {
     "name": "stdout",
     "output_type": "stream",
     "text": [
      "File downloaded successfully: data/airtravel.csv\n",
      "File downloaded successfully and saved to: data/airtravel.csv\n"
     ]
    }
   ],
   "source": [
    "# Import the download functions\n",
    "from vistool.download import (\n",
    "    download_file,\n",
    "    download_csv, \n",
    "    load_csv,\n",
    "    load_excel, \n",
    "    summarize_data\n",
    ")\n",
    "import os\n",
    "\n",
    "# Download a file and save it locally\n",
    "url = \"https://people.sc.fsu.edu/~jburkardt/data/csv/airtravel.csv\"\n",
    "save_path = \"data/airtravel.csv\"\n",
    "\n",
    "# Create the directory if it doesn't exist\n",
    "os.makedirs(os.path.dirname(save_path), exist_ok=True)\n",
    "\n",
    "# Download the file\n",
    "download_file(url, save_path)\n",
    "\n",
    "# Verify the file is saved\n",
    "if os.path.exists(save_path):\n",
    "    print(f\"File downloaded successfully and saved to: {save_path}\")\n",
    "else:\n",
    "    print(\"Failed to download the file.\")\n"
   ]
  },
  {
   "cell_type": "markdown",
   "metadata": {},
   "source": [
    "Example 2: Downloading CSV"
   ]
  },
  {
   "cell_type": "code",
   "execution_count": 4,
   "metadata": {},
   "outputs": [
    {
     "name": "stdout",
     "output_type": "stream",
     "text": [
      "CSV downloaded and loaded into a DataFrame successfully.\n",
      "Downloaded CSV Data:\n",
      "  Month   \"1958\"   \"1959\"   \"1960\"\n",
      "0   JAN      340      360      417\n",
      "1   FEB      318      342      391\n",
      "2   MAR      362      406      419\n",
      "3   APR      348      396      461\n",
      "4   MAY      363      420      472\n"
     ]
    }
   ],
   "source": [
    "#  Download a CSV file and load into Pandas DataFrame\n",
    "url = \"https://people.sc.fsu.edu/~jburkardt/data/csv/airtravel.csv\"\n",
    "df = download_csv(url)\n",
    "\n",
    "# Display the first few rows of the DataFrame\n",
    "print(\"Downloaded CSV Data:\")\n",
    "print(df.head())"
   ]
  },
  {
   "cell_type": "markdown",
   "metadata": {},
   "source": [
    "Example 3: Load a CSV"
   ]
  },
  {
   "cell_type": "code",
   "execution_count": 5,
   "metadata": {},
   "outputs": [
    {
     "name": "stdout",
     "output_type": "stream",
     "text": [
      "File 'data/Monthly_AE_Attendances_Nov_2024.csv' loaded successfully!\n"
     ]
    },
    {
     "data": {
      "text/html": [
       "<div>\n",
       "<style scoped>\n",
       "    .dataframe tbody tr th:only-of-type {\n",
       "        vertical-align: middle;\n",
       "    }\n",
       "\n",
       "    .dataframe tbody tr th {\n",
       "        vertical-align: top;\n",
       "    }\n",
       "\n",
       "    .dataframe thead th {\n",
       "        text-align: right;\n",
       "    }\n",
       "</style>\n",
       "<table border=\"1\" class=\"dataframe\">\n",
       "  <thead>\n",
       "    <tr style=\"text-align: right;\">\n",
       "      <th></th>\n",
       "      <th>period</th>\n",
       "      <th>org_code</th>\n",
       "      <th>parent_org</th>\n",
       "      <th>org_name</th>\n",
       "      <th>ae_attendances_type_1</th>\n",
       "      <th>ae_attendances_type_2</th>\n",
       "      <th>ae_attendances_other_ae_department</th>\n",
       "      <th>ae_attendances_booked_appointments_type_1</th>\n",
       "      <th>ae_attendances_booked_appointments_type_2</th>\n",
       "      <th>ae_attendances_booked_appointments_other_department</th>\n",
       "      <th>...</th>\n",
       "      <th>attendances_over_4hrs_other_department</th>\n",
       "      <th>attendances_over_4hrs_booked_appointments_type_1</th>\n",
       "      <th>attendances_over_4hrs_booked_appointments_type_2</th>\n",
       "      <th>attendances_over_4hrs_booked_appointments_other_department</th>\n",
       "      <th>patients_who_have_waited_4-12_hs_from_dta_to_admission</th>\n",
       "      <th>patients_who_have_waited_12+_hrs_from_dta_to_admission</th>\n",
       "      <th>emergency_admissions_via_ae-type_1</th>\n",
       "      <th>emergency_admissions_via_ae-type_2</th>\n",
       "      <th>emergency_admissions_via_ae-other_AE_department</th>\n",
       "      <th>other_emergency_admissions</th>\n",
       "    </tr>\n",
       "  </thead>\n",
       "  <tbody>\n",
       "    <tr>\n",
       "      <th>0</th>\n",
       "      <td>MSitAE-NOVEMBER-2024</td>\n",
       "      <td>NL7</td>\n",
       "      <td>NHS ENGLAND MIDLANDS</td>\n",
       "      <td>ASSURA VERTIS URGENT CARE CENTRES (BIRMINGHAM)</td>\n",
       "      <td>0</td>\n",
       "      <td>0</td>\n",
       "      <td>4350</td>\n",
       "      <td>0</td>\n",
       "      <td>0</td>\n",
       "      <td>0</td>\n",
       "      <td>...</td>\n",
       "      <td>0</td>\n",
       "      <td>0</td>\n",
       "      <td>0</td>\n",
       "      <td>0</td>\n",
       "      <td>0</td>\n",
       "      <td>0</td>\n",
       "      <td>0</td>\n",
       "      <td>0</td>\n",
       "      <td>0</td>\n",
       "      <td>0</td>\n",
       "    </tr>\n",
       "    <tr>\n",
       "      <th>1</th>\n",
       "      <td>MSitAE-NOVEMBER-2024</td>\n",
       "      <td>RWY</td>\n",
       "      <td>NHS ENGLAND NORTH EAST AND YORKSHIRE</td>\n",
       "      <td>CALDERDALE AND HUDDERSFIELD NHS FOUNDATION TRUST</td>\n",
       "      <td>15295</td>\n",
       "      <td>0</td>\n",
       "      <td>0</td>\n",
       "      <td>0</td>\n",
       "      <td>0</td>\n",
       "      <td>0</td>\n",
       "      <td>...</td>\n",
       "      <td>0</td>\n",
       "      <td>0</td>\n",
       "      <td>0</td>\n",
       "      <td>0</td>\n",
       "      <td>1160</td>\n",
       "      <td>16</td>\n",
       "      <td>3104</td>\n",
       "      <td>0</td>\n",
       "      <td>0</td>\n",
       "      <td>316</td>\n",
       "    </tr>\n",
       "    <tr>\n",
       "      <th>2</th>\n",
       "      <td>MSitAE-NOVEMBER-2024</td>\n",
       "      <td>AAH</td>\n",
       "      <td>NHS ENGLAND SOUTH WEST</td>\n",
       "      <td>TETBURY HOSPITAL TRUST LTD</td>\n",
       "      <td>0</td>\n",
       "      <td>0</td>\n",
       "      <td>516</td>\n",
       "      <td>0</td>\n",
       "      <td>0</td>\n",
       "      <td>0</td>\n",
       "      <td>...</td>\n",
       "      <td>0</td>\n",
       "      <td>0</td>\n",
       "      <td>0</td>\n",
       "      <td>0</td>\n",
       "      <td>0</td>\n",
       "      <td>0</td>\n",
       "      <td>0</td>\n",
       "      <td>0</td>\n",
       "      <td>0</td>\n",
       "      <td>0</td>\n",
       "    </tr>\n",
       "    <tr>\n",
       "      <th>3</th>\n",
       "      <td>MSitAE-NOVEMBER-2024</td>\n",
       "      <td>AQN04</td>\n",
       "      <td>NHS ENGLAND SOUTH EAST</td>\n",
       "      <td>PHL LYMINGTON UTC</td>\n",
       "      <td>0</td>\n",
       "      <td>0</td>\n",
       "      <td>2593</td>\n",
       "      <td>0</td>\n",
       "      <td>0</td>\n",
       "      <td>12</td>\n",
       "      <td>...</td>\n",
       "      <td>1</td>\n",
       "      <td>0</td>\n",
       "      <td>0</td>\n",
       "      <td>0</td>\n",
       "      <td>0</td>\n",
       "      <td>0</td>\n",
       "      <td>0</td>\n",
       "      <td>0</td>\n",
       "      <td>0</td>\n",
       "      <td>0</td>\n",
       "    </tr>\n",
       "    <tr>\n",
       "      <th>4</th>\n",
       "      <td>MSitAE-NOVEMBER-2024</td>\n",
       "      <td>C82038</td>\n",
       "      <td>NHS ENGLAND MIDLANDS</td>\n",
       "      <td>LATHAM HOUSE MEDICAL PRACTICE</td>\n",
       "      <td>0</td>\n",
       "      <td>0</td>\n",
       "      <td>303</td>\n",
       "      <td>0</td>\n",
       "      <td>0</td>\n",
       "      <td>0</td>\n",
       "      <td>...</td>\n",
       "      <td>0</td>\n",
       "      <td>0</td>\n",
       "      <td>0</td>\n",
       "      <td>0</td>\n",
       "      <td>0</td>\n",
       "      <td>0</td>\n",
       "      <td>0</td>\n",
       "      <td>0</td>\n",
       "      <td>0</td>\n",
       "      <td>0</td>\n",
       "    </tr>\n",
       "  </tbody>\n",
       "</table>\n",
       "<p>5 rows × 22 columns</p>\n",
       "</div>"
      ],
      "text/plain": [
       "                 period org_code                             parent_org  \\\n",
       "0  MSitAE-NOVEMBER-2024      NL7                  NHS ENGLAND MIDLANDS    \n",
       "1  MSitAE-NOVEMBER-2024      RWY  NHS ENGLAND NORTH EAST AND YORKSHIRE    \n",
       "2  MSitAE-NOVEMBER-2024      AAH                NHS ENGLAND SOUTH WEST    \n",
       "3  MSitAE-NOVEMBER-2024    AQN04                NHS ENGLAND SOUTH EAST    \n",
       "4  MSitAE-NOVEMBER-2024   C82038                  NHS ENGLAND MIDLANDS    \n",
       "\n",
       "                                           org_name  ae_attendances_type_1  \\\n",
       "0    ASSURA VERTIS URGENT CARE CENTRES (BIRMINGHAM)                      0   \n",
       "1  CALDERDALE AND HUDDERSFIELD NHS FOUNDATION TRUST                  15295   \n",
       "2                        TETBURY HOSPITAL TRUST LTD                      0   \n",
       "3                                 PHL LYMINGTON UTC                      0   \n",
       "4                     LATHAM HOUSE MEDICAL PRACTICE                      0   \n",
       "\n",
       "   ae_attendances_type_2  ae_attendances_other_ae_department  \\\n",
       "0                      0                                4350   \n",
       "1                      0                                   0   \n",
       "2                      0                                 516   \n",
       "3                      0                                2593   \n",
       "4                      0                                 303   \n",
       "\n",
       "   ae_attendances_booked_appointments_type_1  \\\n",
       "0                                          0   \n",
       "1                                          0   \n",
       "2                                          0   \n",
       "3                                          0   \n",
       "4                                          0   \n",
       "\n",
       "   ae_attendances_booked_appointments_type_2  \\\n",
       "0                                          0   \n",
       "1                                          0   \n",
       "2                                          0   \n",
       "3                                          0   \n",
       "4                                          0   \n",
       "\n",
       "   ae_attendances_booked_appointments_other_department  ...  \\\n",
       "0                                                  0    ...   \n",
       "1                                                  0    ...   \n",
       "2                                                  0    ...   \n",
       "3                                                 12    ...   \n",
       "4                                                  0    ...   \n",
       "\n",
       "   attendances_over_4hrs_other_department  \\\n",
       "0                                       0   \n",
       "1                                       0   \n",
       "2                                       0   \n",
       "3                                       1   \n",
       "4                                       0   \n",
       "\n",
       "   attendances_over_4hrs_booked_appointments_type_1  \\\n",
       "0                                                 0   \n",
       "1                                                 0   \n",
       "2                                                 0   \n",
       "3                                                 0   \n",
       "4                                                 0   \n",
       "\n",
       "   attendances_over_4hrs_booked_appointments_type_2  \\\n",
       "0                                                 0   \n",
       "1                                                 0   \n",
       "2                                                 0   \n",
       "3                                                 0   \n",
       "4                                                 0   \n",
       "\n",
       "   attendances_over_4hrs_booked_appointments_other_department  \\\n",
       "0                                                  0            \n",
       "1                                                  0            \n",
       "2                                                  0            \n",
       "3                                                  0            \n",
       "4                                                  0            \n",
       "\n",
       "   patients_who_have_waited_4-12_hs_from_dta_to_admission  \\\n",
       "0                                                  0        \n",
       "1                                               1160        \n",
       "2                                                  0        \n",
       "3                                                  0        \n",
       "4                                                  0        \n",
       "\n",
       "   patients_who_have_waited_12+_hrs_from_dta_to_admission  \\\n",
       "0                                                  0        \n",
       "1                                                 16        \n",
       "2                                                  0        \n",
       "3                                                  0        \n",
       "4                                                  0        \n",
       "\n",
       "   emergency_admissions_via_ae-type_1  emergency_admissions_via_ae-type_2  \\\n",
       "0                                   0                                   0   \n",
       "1                                3104                                   0   \n",
       "2                                   0                                   0   \n",
       "3                                   0                                   0   \n",
       "4                                   0                                   0   \n",
       "\n",
       "   emergency_admissions_via_ae-other_AE_department  other_emergency_admissions  \n",
       "0                                                0                           0  \n",
       "1                                                0                         316  \n",
       "2                                                0                           0  \n",
       "3                                                0                           0  \n",
       "4                                                0                           0  \n",
       "\n",
       "[5 rows x 22 columns]"
      ]
     },
     "execution_count": 5,
     "metadata": {},
     "output_type": "execute_result"
    }
   ],
   "source": [
    "#Load csv file \n",
    "df = load_csv('data/Monthly_AE_Attendances_Nov_2024.csv')\n",
    "df.head(5)"
   ]
  },
  {
   "cell_type": "markdown",
   "metadata": {},
   "source": [
    "Example 4: Load an Excel File"
   ]
  },
  {
   "cell_type": "code",
   "execution_count": 6,
   "metadata": {},
   "outputs": [
    {
     "name": "stdout",
     "output_type": "stream",
     "text": [
      "File 'data/titanic3.xls' loaded successfully!\n",
      "<class 'dict'>\n",
      "dict_keys(['titanic3'])\n"
     ]
    }
   ],
   "source": [
    "# Load_excel file \n",
    "df_dict = load_excel('data/titanic3.xls')\n",
    "print(type(df_dict))  # Output: <class 'dict'>\n",
    "print(df_dict.keys())  # Output: dict_keys(['Sheet1', 'Sheet2', ...])"
   ]
  },
  {
   "cell_type": "code",
   "execution_count": 7,
   "metadata": {},
   "outputs": [
    {
     "name": "stdout",
     "output_type": "stream",
     "text": [
      "   pclass  survived                                             name     sex  \\\n",
      "0       1         1                    Allen, Miss. Elisabeth Walton  female   \n",
      "1       1         1                   Allison, Master. Hudson Trevor    male   \n",
      "2       1         0                     Allison, Miss. Helen Loraine  female   \n",
      "3       1         0             Allison, Mr. Hudson Joshua Creighton    male   \n",
      "4       1         0  Allison, Mrs. Hudson J C (Bessie Waldo Daniels)  female   \n",
      "\n",
      "       age  sibsp  parch  ticket      fare    cabin embarked boat   body  \\\n",
      "0  29.0000      0      0   24160  211.3375       B5        S    2    NaN   \n",
      "1   0.9167      1      2  113781  151.5500  C22 C26        S   11    NaN   \n",
      "2   2.0000      1      2  113781  151.5500  C22 C26        S  NaN    NaN   \n",
      "3  30.0000      1      2  113781  151.5500  C22 C26        S  NaN  135.0   \n",
      "4  25.0000      1      2  113781  151.5500  C22 C26        S  NaN    NaN   \n",
      "\n",
      "                         home.dest  \n",
      "0                     St Louis, MO  \n",
      "1  Montreal, PQ / Chesterville, ON  \n",
      "2  Montreal, PQ / Chesterville, ON  \n",
      "3  Montreal, PQ / Chesterville, ON  \n",
      "4  Montreal, PQ / Chesterville, ON  \n"
     ]
    }
   ],
   "source": [
    "df = df_dict['titanic3']  # Access the DataFrame for the 'titanic3' sheet\n",
    "print(df.head(5))  # Display the first 5 rows of the DataFrame"
   ]
  },
  {
   "cell_type": "markdown",
   "metadata": {},
   "source": [
    "Example 5: Summerize Data"
   ]
  },
  {
   "cell_type": "code",
   "execution_count": 8,
   "metadata": {},
   "outputs": [
    {
     "name": "stdout",
     "output_type": "stream",
     "text": [
      "File 'data/monthly_ae_attendances_nov_2024.csv' loaded successfully!\n",
      "\n",
      "    --- Data Overview ---\n",
      "    Shape: 198 rows, 22 columns\n",
      "\n",
      "    Numeric Columns: 18 columns (e.g., ae_attendances_type_1, ae_attendances_type_2, ae_attendances_other_ae_department...)\n",
      "    Non-Numeric Columns: 4 columns (e.g., period, org_code, parent_org...)\n",
      "\n",
      "    Missing Values: 0 missing values in total\n",
      "    Duplicate Rows: 0 duplicate rows\n",
      "\n",
      "    Categorical Columns: 2 columns (e.g., period, parent_org...)\n",
      "\n",
      "    Correlation between numeric columns:\n",
      "                                                        ae_attendances_type_1  \\\n",
      "ae_attendances_type_1                                            1.000000   \n",
      "ae_attendances_type_2                                            0.980878   \n",
      "ae_attendances_other_ae_department                               0.996996   \n",
      "ae_attendances_booked_appointments_type_1                        0.985124   \n",
      "ae_attendances_booked_appointments_type_2                        0.793002   \n",
      "ae_attendances_booked_appointments_other_depart...               0.977264   \n",
      "attendances_over_4hrs_type_1                                     0.999823   \n",
      "attendances_over_4hrs_type_2                                     0.962941   \n",
      "attendances_over_4hrs_other_department                           0.993508   \n",
      "attendances_over_4hrs_booked_appointments_type_1                 0.972315   \n",
      "attendances_over_4hrs_booked_appointments_type_2                 0.713343   \n",
      "attendances_over_4hrs_booked_appointments_other...               0.960447   \n",
      "patients_who_have_waited_4-12_hs_from_dta_to_ad...               0.998500   \n",
      "patients_who_have_waited_12+_hrs_from_dta_to_ad...               0.996611   \n",
      "emergency_admissions_via_ae-type_1                               0.999546   \n",
      "emergency_admissions_via_ae-type_2                               0.848210   \n",
      "emergency_admissions_via_ae-other_AE_department                  0.974201   \n",
      "other_emergency_admissions                                       0.997017   \n",
      "\n",
      "                                                    ae_attendances_type_2  \\\n",
      "ae_attendances_type_1                                            0.980878   \n",
      "ae_attendances_type_2                                            1.000000   \n",
      "ae_attendances_other_ae_department                               0.978053   \n",
      "ae_attendances_booked_appointments_type_1                        0.972557   \n",
      "ae_attendances_booked_appointments_type_2                        0.808593   \n",
      "ae_attendances_booked_appointments_other_depart...               0.959005   \n",
      "attendances_over_4hrs_type_1                                     0.981250   \n",
      "attendances_over_4hrs_type_2                                     0.975662   \n",
      "attendances_over_4hrs_other_department                           0.975163   \n",
      "attendances_over_4hrs_booked_appointments_type_1                 0.965564   \n",
      "attendances_over_4hrs_booked_appointments_type_2                 0.729533   \n",
      "attendances_over_4hrs_booked_appointments_other...               0.951452   \n",
      "patients_who_have_waited_4-12_hs_from_dta_to_ad...               0.980278   \n",
      "patients_who_have_waited_12+_hrs_from_dta_to_ad...               0.976204   \n",
      "emergency_admissions_via_ae-type_1                               0.980905   \n",
      "emergency_admissions_via_ae-type_2                               0.850508   \n",
      "emergency_admissions_via_ae-other_AE_department                  0.950984   \n",
      "other_emergency_admissions                                       0.979667   \n",
      "\n",
      "                                                    ae_attendances_other_ae_department  \\\n",
      "ae_attendances_type_1                                                         0.996996   \n",
      "ae_attendances_type_2                                                         0.978053   \n",
      "ae_attendances_other_ae_department                                            1.000000   \n",
      "ae_attendances_booked_appointments_type_1                                     0.982145   \n",
      "ae_attendances_booked_appointments_type_2                                     0.790392   \n",
      "ae_attendances_booked_appointments_other_depart...                            0.977040   \n",
      "attendances_over_4hrs_type_1                                                  0.997215   \n",
      "attendances_over_4hrs_type_2                                                  0.960442   \n",
      "attendances_over_4hrs_other_department                                        0.995623   \n",
      "attendances_over_4hrs_booked_appointments_type_1                              0.969183   \n",
      "attendances_over_4hrs_booked_appointments_type_2                              0.710420   \n",
      "attendances_over_4hrs_booked_appointments_other...                            0.960116   \n",
      "patients_who_have_waited_4-12_hs_from_dta_to_ad...                            0.995732   \n",
      "patients_who_have_waited_12+_hrs_from_dta_to_ad...                            0.994406   \n",
      "emergency_admissions_via_ae-type_1                                            0.997044   \n",
      "emergency_admissions_via_ae-type_2                                            0.845311   \n",
      "emergency_admissions_via_ae-other_AE_department                               0.975334   \n",
      "other_emergency_admissions                                                    0.993769   \n",
      "\n",
      "                                                    ae_attendances_booked_appointments_type_1  \\\n",
      "ae_attendances_type_1                                                                0.985124   \n",
      "ae_attendances_type_2                                                                0.972557   \n",
      "ae_attendances_other_ae_department                                                   0.982145   \n",
      "ae_attendances_booked_appointments_type_1                                            1.000000   \n",
      "ae_attendances_booked_appointments_type_2                                            0.835276   \n",
      "ae_attendances_booked_appointments_other_depart...                                   0.966983   \n",
      "attendances_over_4hrs_type_1                                                         0.985358   \n",
      "attendances_over_4hrs_type_2                                                         0.948453   \n",
      "attendances_over_4hrs_other_department                                               0.978815   \n",
      "attendances_over_4hrs_booked_appointments_type_1                                     0.992077   \n",
      "attendances_over_4hrs_booked_appointments_type_2                                     0.766329   \n",
      "attendances_over_4hrs_booked_appointments_other...                                   0.967838   \n",
      "patients_who_have_waited_4-12_hs_from_dta_to_ad...                                   0.986093   \n",
      "patients_who_have_waited_12+_hrs_from_dta_to_ad...                                   0.980151   \n",
      "emergency_admissions_via_ae-type_1                                                   0.984599   \n",
      "emergency_admissions_via_ae-type_2                                                   0.843347   \n",
      "emergency_admissions_via_ae-other_AE_department                                      0.957771   \n",
      "other_emergency_admissions                                                           0.982171   \n",
      "\n",
      "                                                    ae_attendances_booked_appointments_type_2  \\\n",
      "ae_attendances_type_1                                                                0.793002   \n",
      "ae_attendances_type_2                                                                0.808593   \n",
      "ae_attendances_other_ae_department                                                   0.790392   \n",
      "ae_attendances_booked_appointments_type_1                                            0.835276   \n",
      "ae_attendances_booked_appointments_type_2                                            1.000000   \n",
      "ae_attendances_booked_appointments_other_depart...                                   0.779393   \n",
      "attendances_over_4hrs_type_1                                                         0.795034   \n",
      "attendances_over_4hrs_type_2                                                         0.786522   \n",
      "attendances_over_4hrs_other_department                                               0.796476   \n",
      "attendances_over_4hrs_booked_appointments_type_1                                     0.870788   \n",
      "attendances_over_4hrs_booked_appointments_type_2                                     0.976228   \n",
      "attendances_over_4hrs_booked_appointments_other...                                   0.870129   \n",
      "patients_who_have_waited_4-12_hs_from_dta_to_ad...                                   0.806672   \n",
      "patients_who_have_waited_12+_hrs_from_dta_to_ad...                                   0.782395   \n",
      "emergency_admissions_via_ae-type_1                                                   0.790009   \n",
      "emergency_admissions_via_ae-type_2                                                   0.726900   \n",
      "emergency_admissions_via_ae-other_AE_department                                      0.781627   \n",
      "other_emergency_admissions                                                           0.781669   \n",
      "\n",
      "                                                    ae_attendances_booked_appointments_other_department  \\\n",
      "ae_attendances_type_1                                                                        0.977264     \n",
      "ae_attendances_type_2                                                                        0.959005     \n",
      "ae_attendances_other_ae_department                                                           0.977040     \n",
      "ae_attendances_booked_appointments_type_1                                                    0.966983     \n",
      "ae_attendances_booked_appointments_type_2                                                    0.779393     \n",
      "ae_attendances_booked_appointments_other_depart...                                           1.000000     \n",
      "attendances_over_4hrs_type_1                                                                 0.977331     \n",
      "attendances_over_4hrs_type_2                                                                 0.938207     \n",
      "attendances_over_4hrs_other_department                                                       0.972545     \n",
      "attendances_over_4hrs_booked_appointments_type_1                                             0.954631     \n",
      "attendances_over_4hrs_booked_appointments_type_2                                             0.701664     \n",
      "attendances_over_4hrs_booked_appointments_other...                                           0.951312     \n",
      "patients_who_have_waited_4-12_hs_from_dta_to_ad...                                           0.977933     \n",
      "patients_who_have_waited_12+_hrs_from_dta_to_ad...                                           0.972019     \n",
      "emergency_admissions_via_ae-type_1                                                           0.977858     \n",
      "emergency_admissions_via_ae-type_2                                                           0.828323     \n",
      "emergency_admissions_via_ae-other_AE_department                                              0.950079     \n",
      "other_emergency_admissions                                                                   0.975020     \n",
      "\n",
      "                                                    attendances_over_4hrs_type_1  \\\n",
      "ae_attendances_type_1                                                   0.999823   \n",
      "ae_attendances_type_2                                                   0.981250   \n",
      "ae_attendances_other_ae_department                                      0.997215   \n",
      "ae_attendances_booked_appointments_type_1                               0.985358   \n",
      "ae_attendances_booked_appointments_type_2                               0.795034   \n",
      "ae_attendances_booked_appointments_other_depart...                      0.977331   \n",
      "attendances_over_4hrs_type_1                                            1.000000   \n",
      "attendances_over_4hrs_type_2                                            0.963645   \n",
      "attendances_over_4hrs_other_department                                  0.994081   \n",
      "attendances_over_4hrs_booked_appointments_type_1                        0.973077   \n",
      "attendances_over_4hrs_booked_appointments_type_2                        0.715817   \n",
      "attendances_over_4hrs_booked_appointments_other...                      0.961459   \n",
      "patients_who_have_waited_4-12_hs_from_dta_to_ad...                      0.998485   \n",
      "patients_who_have_waited_12+_hrs_from_dta_to_ad...                      0.997024   \n",
      "emergency_admissions_via_ae-type_1                                      0.999484   \n",
      "emergency_admissions_via_ae-type_2                                      0.848358   \n",
      "emergency_admissions_via_ae-other_AE_department                         0.974619   \n",
      "other_emergency_admissions                                              0.997178   \n",
      "\n",
      "                                                    attendances_over_4hrs_type_2  \\\n",
      "ae_attendances_type_1                                                   0.962941   \n",
      "ae_attendances_type_2                                                   0.975662   \n",
      "ae_attendances_other_ae_department                                      0.960442   \n",
      "ae_attendances_booked_appointments_type_1                               0.948453   \n",
      "ae_attendances_booked_appointments_type_2                               0.786522   \n",
      "ae_attendances_booked_appointments_other_depart...                      0.938207   \n",
      "attendances_over_4hrs_type_1                                            0.963645   \n",
      "attendances_over_4hrs_type_2                                            1.000000   \n",
      "attendances_over_4hrs_other_department                                  0.956465   \n",
      "attendances_over_4hrs_booked_appointments_type_1                        0.937202   \n",
      "attendances_over_4hrs_booked_appointments_type_2                        0.703679   \n",
      "attendances_over_4hrs_booked_appointments_other...                      0.926518   \n",
      "patients_who_have_waited_4-12_hs_from_dta_to_ad...                      0.960703   \n",
      "patients_who_have_waited_12+_hrs_from_dta_to_ad...                      0.959077   \n",
      "emergency_admissions_via_ae-type_1                                      0.963604   \n",
      "emergency_admissions_via_ae-type_2                                      0.820423   \n",
      "emergency_admissions_via_ae-other_AE_department                         0.932122   \n",
      "other_emergency_admissions                                              0.961569   \n",
      "\n",
      "                                                    attendances_over_4hrs_other_department  \\\n",
      "ae_attendances_type_1                                                             0.993508   \n",
      "ae_attendances_type_2                                                             0.975163   \n",
      "ae_attendances_other_ae_department                                                0.995623   \n",
      "ae_attendances_booked_appointments_type_1                                         0.978815   \n",
      "ae_attendances_booked_appointments_type_2                                         0.796476   \n",
      "ae_attendances_booked_appointments_other_depart...                                0.972545   \n",
      "attendances_over_4hrs_type_1                                                      0.994081   \n",
      "attendances_over_4hrs_type_2                                                      0.956465   \n",
      "attendances_over_4hrs_other_department                                            1.000000   \n",
      "attendances_over_4hrs_booked_appointments_type_1                                  0.967750   \n",
      "attendances_over_4hrs_booked_appointments_type_2                                  0.718893   \n",
      "attendances_over_4hrs_booked_appointments_other...                                0.962543   \n",
      "patients_who_have_waited_4-12_hs_from_dta_to_ad...                                0.992632   \n",
      "patients_who_have_waited_12+_hrs_from_dta_to_ad...                                0.992670   \n",
      "emergency_admissions_via_ae-type_1                                                0.993358   \n",
      "emergency_admissions_via_ae-type_2                                                0.847401   \n",
      "emergency_admissions_via_ae-other_AE_department                                   0.973579   \n",
      "other_emergency_admissions                                                        0.989627   \n",
      "\n",
      "                                                    attendances_over_4hrs_booked_appointments_type_1  \\\n",
      "ae_attendances_type_1                                                                       0.972315   \n",
      "ae_attendances_type_2                                                                       0.965564   \n",
      "ae_attendances_other_ae_department                                                          0.969183   \n",
      "ae_attendances_booked_appointments_type_1                                                   0.992077   \n",
      "ae_attendances_booked_appointments_type_2                                                   0.870788   \n",
      "ae_attendances_booked_appointments_other_depart...                                          0.954631   \n",
      "attendances_over_4hrs_type_1                                                                0.973077   \n",
      "attendances_over_4hrs_type_2                                                                0.937202   \n",
      "attendances_over_4hrs_other_department                                                      0.967750   \n",
      "attendances_over_4hrs_booked_appointments_type_1                                            1.000000   \n",
      "attendances_over_4hrs_booked_appointments_type_2                                            0.811618   \n",
      "attendances_over_4hrs_booked_appointments_other...                                          0.973730   \n",
      "patients_who_have_waited_4-12_hs_from_dta_to_ad...                                          0.975821   \n",
      "patients_who_have_waited_12+_hrs_from_dta_to_ad...                                          0.966852   \n",
      "emergency_admissions_via_ae-type_1                                                          0.971775   \n",
      "emergency_admissions_via_ae-type_2                                                          0.839636   \n",
      "emergency_admissions_via_ae-other_AE_department                                             0.945960   \n",
      "other_emergency_admissions                                                                  0.970151   \n",
      "\n",
      "                                                    attendances_over_4hrs_booked_appointments_type_2  \\\n",
      "ae_attendances_type_1                                                                       0.713343   \n",
      "ae_attendances_type_2                                                                       0.729533   \n",
      "ae_attendances_other_ae_department                                                          0.710420   \n",
      "ae_attendances_booked_appointments_type_1                                                   0.766329   \n",
      "ae_attendances_booked_appointments_type_2                                                   0.976228   \n",
      "ae_attendances_booked_appointments_other_depart...                                          0.701664   \n",
      "attendances_over_4hrs_type_1                                                                0.715817   \n",
      "attendances_over_4hrs_type_2                                                                0.703679   \n",
      "attendances_over_4hrs_other_department                                                      0.718893   \n",
      "attendances_over_4hrs_booked_appointments_type_1                                            0.811618   \n",
      "attendances_over_4hrs_booked_appointments_type_2                                            1.000000   \n",
      "attendances_over_4hrs_booked_appointments_other...                                          0.814556   \n",
      "patients_who_have_waited_4-12_hs_from_dta_to_ad...                                          0.730081   \n",
      "patients_who_have_waited_12+_hrs_from_dta_to_ad...                                          0.701760   \n",
      "emergency_admissions_via_ae-type_1                                                          0.709893   \n",
      "emergency_admissions_via_ae-type_2                                                          0.657178   \n",
      "emergency_admissions_via_ae-other_AE_department                                             0.705975   \n",
      "other_emergency_admissions                                                                  0.700516   \n",
      "\n",
      "                                                    attendances_over_4hrs_booked_appointments_other_department  \\\n",
      "ae_attendances_type_1                                                                        0.960447            \n",
      "ae_attendances_type_2                                                                        0.951452            \n",
      "ae_attendances_other_ae_department                                                           0.960116            \n",
      "ae_attendances_booked_appointments_type_1                                                    0.967838            \n",
      "ae_attendances_booked_appointments_type_2                                                    0.870129            \n",
      "ae_attendances_booked_appointments_other_depart...                                           0.951312            \n",
      "attendances_over_4hrs_type_1                                                                 0.961459            \n",
      "attendances_over_4hrs_type_2                                                                 0.926518            \n",
      "attendances_over_4hrs_other_department                                                       0.962543            \n",
      "attendances_over_4hrs_booked_appointments_type_1                                             0.973730            \n",
      "attendances_over_4hrs_booked_appointments_type_2                                             0.814556            \n",
      "attendances_over_4hrs_booked_appointments_other...                                           1.000000            \n",
      "patients_who_have_waited_4-12_hs_from_dta_to_ad...                                           0.963428            \n",
      "patients_who_have_waited_12+_hrs_from_dta_to_ad...                                           0.955343            \n",
      "emergency_admissions_via_ae-type_1                                                           0.960359            \n",
      "emergency_admissions_via_ae-type_2                                                           0.827618            \n",
      "emergency_admissions_via_ae-other_AE_department                                              0.940708            \n",
      "other_emergency_admissions                                                                   0.957865            \n",
      "\n",
      "                                                    patients_who_have_waited_4-12_hs_from_dta_to_admission  \\\n",
      "ae_attendances_type_1                                                                        0.998500        \n",
      "ae_attendances_type_2                                                                        0.980278        \n",
      "ae_attendances_other_ae_department                                                           0.995732        \n",
      "ae_attendances_booked_appointments_type_1                                                    0.986093        \n",
      "ae_attendances_booked_appointments_type_2                                                    0.806672        \n",
      "ae_attendances_booked_appointments_other_depart...                                           0.977933        \n",
      "attendances_over_4hrs_type_1                                                                 0.998485        \n",
      "attendances_over_4hrs_type_2                                                                 0.960703        \n",
      "attendances_over_4hrs_other_department                                                       0.992632        \n",
      "attendances_over_4hrs_booked_appointments_type_1                                             0.975821        \n",
      "attendances_over_4hrs_booked_appointments_type_2                                             0.730081        \n",
      "attendances_over_4hrs_booked_appointments_other...                                           0.963428        \n",
      "patients_who_have_waited_4-12_hs_from_dta_to_ad...                                           1.000000        \n",
      "patients_who_have_waited_12+_hrs_from_dta_to_ad...                                           0.994534        \n",
      "emergency_admissions_via_ae-type_1                                                           0.998143        \n",
      "emergency_admissions_via_ae-type_2                                                           0.846227        \n",
      "emergency_admissions_via_ae-other_AE_department                                              0.972699        \n",
      "other_emergency_admissions                                                                   0.995539        \n",
      "\n",
      "                                                    patients_who_have_waited_12+_hrs_from_dta_to_admission  \\\n",
      "ae_attendances_type_1                                                                        0.996611        \n",
      "ae_attendances_type_2                                                                        0.976204        \n",
      "ae_attendances_other_ae_department                                                           0.994406        \n",
      "ae_attendances_booked_appointments_type_1                                                    0.980151        \n",
      "ae_attendances_booked_appointments_type_2                                                    0.782395        \n",
      "ae_attendances_booked_appointments_other_depart...                                           0.972019        \n",
      "attendances_over_4hrs_type_1                                                                 0.997024        \n",
      "attendances_over_4hrs_type_2                                                                 0.959077        \n",
      "attendances_over_4hrs_other_department                                                       0.992670        \n",
      "attendances_over_4hrs_booked_appointments_type_1                                             0.966852        \n",
      "attendances_over_4hrs_booked_appointments_type_2                                             0.701760        \n",
      "attendances_over_4hrs_booked_appointments_other...                                           0.955343        \n",
      "patients_who_have_waited_4-12_hs_from_dta_to_ad...                                           0.994534        \n",
      "patients_who_have_waited_12+_hrs_from_dta_to_ad...                                           1.000000        \n",
      "emergency_admissions_via_ae-type_1                                                           0.996438        \n",
      "emergency_admissions_via_ae-type_2                                                           0.842234        \n",
      "emergency_admissions_via_ae-other_AE_department                                              0.973100        \n",
      "other_emergency_admissions                                                                   0.994964        \n",
      "\n",
      "                                                    emergency_admissions_via_ae-type_1  \\\n",
      "ae_attendances_type_1                                                         0.999546   \n",
      "ae_attendances_type_2                                                         0.980905   \n",
      "ae_attendances_other_ae_department                                            0.997044   \n",
      "ae_attendances_booked_appointments_type_1                                     0.984599   \n",
      "ae_attendances_booked_appointments_type_2                                     0.790009   \n",
      "ae_attendances_booked_appointments_other_depart...                            0.977858   \n",
      "attendances_over_4hrs_type_1                                                  0.999484   \n",
      "attendances_over_4hrs_type_2                                                  0.963604   \n",
      "attendances_over_4hrs_other_department                                        0.993358   \n",
      "attendances_over_4hrs_booked_appointments_type_1                              0.971775   \n",
      "attendances_over_4hrs_booked_appointments_type_2                              0.709893   \n",
      "attendances_over_4hrs_booked_appointments_other...                            0.960359   \n",
      "patients_who_have_waited_4-12_hs_from_dta_to_ad...                            0.998143   \n",
      "patients_who_have_waited_12+_hrs_from_dta_to_ad...                            0.996438   \n",
      "emergency_admissions_via_ae-type_1                                            1.000000   \n",
      "emergency_admissions_via_ae-type_2                                            0.848804   \n",
      "emergency_admissions_via_ae-other_AE_department                               0.974066   \n",
      "other_emergency_admissions                                                    0.997272   \n",
      "\n",
      "                                                    emergency_admissions_via_ae-type_2  \\\n",
      "ae_attendances_type_1                                                         0.848210   \n",
      "ae_attendances_type_2                                                         0.850508   \n",
      "ae_attendances_other_ae_department                                            0.845311   \n",
      "ae_attendances_booked_appointments_type_1                                     0.843347   \n",
      "ae_attendances_booked_appointments_type_2                                     0.726900   \n",
      "ae_attendances_booked_appointments_other_depart...                            0.828323   \n",
      "attendances_over_4hrs_type_1                                                  0.848358   \n",
      "attendances_over_4hrs_type_2                                                  0.820423   \n",
      "attendances_over_4hrs_other_department                                        0.847401   \n",
      "attendances_over_4hrs_booked_appointments_type_1                              0.839636   \n",
      "attendances_over_4hrs_booked_appointments_type_2                              0.657178   \n",
      "attendances_over_4hrs_booked_appointments_other...                            0.827618   \n",
      "patients_who_have_waited_4-12_hs_from_dta_to_ad...                            0.846227   \n",
      "patients_who_have_waited_12+_hrs_from_dta_to_ad...                            0.842234   \n",
      "emergency_admissions_via_ae-type_1                                            0.848804   \n",
      "emergency_admissions_via_ae-type_2                                            1.000000   \n",
      "emergency_admissions_via_ae-other_AE_department                               0.823608   \n",
      "other_emergency_admissions                                                    0.850109   \n",
      "\n",
      "                                                    emergency_admissions_via_ae-other_AE_department  \\\n",
      "ae_attendances_type_1                                                                      0.974201   \n",
      "ae_attendances_type_2                                                                      0.950984   \n",
      "ae_attendances_other_ae_department                                                         0.975334   \n",
      "ae_attendances_booked_appointments_type_1                                                  0.957771   \n",
      "ae_attendances_booked_appointments_type_2                                                  0.781627   \n",
      "ae_attendances_booked_appointments_other_depart...                                         0.950079   \n",
      "attendances_over_4hrs_type_1                                                               0.974619   \n",
      "attendances_over_4hrs_type_2                                                               0.932122   \n",
      "attendances_over_4hrs_other_department                                                     0.973579   \n",
      "attendances_over_4hrs_booked_appointments_type_1                                           0.945960   \n",
      "attendances_over_4hrs_booked_appointments_type_2                                           0.705975   \n",
      "attendances_over_4hrs_booked_appointments_other...                                         0.940708   \n",
      "patients_who_have_waited_4-12_hs_from_dta_to_ad...                                         0.972699   \n",
      "patients_who_have_waited_12+_hrs_from_dta_to_ad...                                         0.973100   \n",
      "emergency_admissions_via_ae-type_1                                                         0.974066   \n",
      "emergency_admissions_via_ae-type_2                                                         0.823608   \n",
      "emergency_admissions_via_ae-other_AE_department                                            1.000000   \n",
      "other_emergency_admissions                                                                 0.970861   \n",
      "\n",
      "                                                    other_emergency_admissions  \n",
      "ae_attendances_type_1                                                 0.997017  \n",
      "ae_attendances_type_2                                                 0.979667  \n",
      "ae_attendances_other_ae_department                                    0.993769  \n",
      "ae_attendances_booked_appointments_type_1                             0.982171  \n",
      "ae_attendances_booked_appointments_type_2                             0.781669  \n",
      "ae_attendances_booked_appointments_other_depart...                    0.975020  \n",
      "attendances_over_4hrs_type_1                                          0.997178  \n",
      "attendances_over_4hrs_type_2                                          0.961569  \n",
      "attendances_over_4hrs_other_department                                0.989627  \n",
      "attendances_over_4hrs_booked_appointments_type_1                      0.970151  \n",
      "attendances_over_4hrs_booked_appointments_type_2                      0.700516  \n",
      "attendances_over_4hrs_booked_appointments_other...                    0.957865  \n",
      "patients_who_have_waited_4-12_hs_from_dta_to_ad...                    0.995539  \n",
      "patients_who_have_waited_12+_hrs_from_dta_to_ad...                    0.994964  \n",
      "emergency_admissions_via_ae-type_1                                    0.997272  \n",
      "emergency_admissions_via_ae-type_2                                    0.850109  \n",
      "emergency_admissions_via_ae-other_AE_department                       0.970861  \n",
      "other_emergency_admissions                                            1.000000  \n",
      "    \n"
     ]
    }
   ],
   "source": [
    "# Summary of the data \n",
    "df = load_csv('data/monthly_ae_attendances_nov_2024.csv')\n",
    "summarize_data(df)"
   ]
  },
  {
   "cell_type": "markdown",
   "metadata": {},
   "source": [
    "**Combine Module**"
   ]
  },
  {
   "cell_type": "markdown",
   "metadata": {},
   "source": [
    "Example 1: Inner Join"
   ]
  },
  {
   "cell_type": "code",
   "execution_count": 9,
   "metadata": {},
   "outputs": [
    {
     "name": "stdout",
     "output_type": "stream",
     "text": [
      "Datasets merged successfully using inner join.\n",
      "   id     name  age\n",
      "0   2      Bob   25\n",
      "1   3  Charlie   30\n"
     ]
    }
   ],
   "source": [
    "# Import combine module functions\n",
    "from vistool.combine import merge_datasets, concat_datasets\n",
    "\n",
    "#Example 1: Inner Join\n",
    "# Sample data\n",
    "data1 = {'id': [1, 2, 3], 'name': ['Alice', 'Bob', 'Charlie']}\n",
    "data2 = {'id': [2, 3, 4], 'age': [25, 30, 35]}\n",
    "\n",
    "df1 = pd.DataFrame(data1)\n",
    "df2 = pd.DataFrame(data2)\n",
    "\n",
    "# Merge Datasets Inner Join\n",
    "merged_data = merge_datasets(df1, df2, on=\"id\", how=\"inner\")\n",
    "print(merged_data)"
   ]
  },
  {
   "cell_type": "markdown",
   "metadata": {},
   "source": [
    "Example 2: Outer Join"
   ]
  },
  {
   "cell_type": "code",
   "execution_count": 10,
   "metadata": {},
   "outputs": [
    {
     "name": "stdout",
     "output_type": "stream",
     "text": [
      "Datasets merged successfully using outer join.\n",
      "   id     name   age\n",
      "0   1    Alice   NaN\n",
      "1   2      Bob  25.0\n",
      "2   3  Charlie  30.0\n",
      "3   4      NaN  35.0\n"
     ]
    }
   ],
   "source": [
    "# Example 2: Merge datasets Outer Join\n",
    "merged_data = merge_datasets(df1, df2, on=\"id\", how=\"outer\")\n",
    "print(merged_data)"
   ]
  },
  {
   "cell_type": "markdown",
   "metadata": {},
   "source": [
    "Example 3: Concatenate Rows"
   ]
  },
  {
   "cell_type": "code",
   "execution_count": 11,
   "metadata": {},
   "outputs": [
    {
     "name": "stdout",
     "output_type": "stream",
     "text": [
      "Datasets concatenated successfully along axis 0.\n",
      "   id     name\n",
      "0   1    Alice\n",
      "1   2      Bob\n",
      "0   3  Charlie\n",
      "1   4    David\n"
     ]
    }
   ],
   "source": [
    "# Example 3: Concatenating Row-Wise\n",
    "\n",
    "# Sample data\n",
    "df1 = pd.DataFrame({'id': [1, 2], 'name': ['Alice', 'Bob']})\n",
    "df2 = pd.DataFrame({'id': [3, 4], 'name': ['Charlie', 'David']})\n",
    "\n",
    "# Concatenate row-wise\n",
    "concatenated_data = concat_datasets([df1, df2], axis=0)\n",
    "print(concatenated_data)"
   ]
  },
  {
   "cell_type": "markdown",
   "metadata": {},
   "source": [
    "Example 4: Concatenate Columns"
   ]
  },
  {
   "cell_type": "code",
   "execution_count": 12,
   "metadata": {},
   "outputs": [
    {
     "name": "stdout",
     "output_type": "stream",
     "text": [
      "Datasets concatenated successfully along axis 1.\n",
      "   id   name  id     name\n",
      "0   1  Alice   3  Charlie\n",
      "1   2    Bob   4    David\n"
     ]
    }
   ],
   "source": [
    "# Concatenate column-wise\n",
    "concatenated_data = concat_datasets([df1, df2], axis=1)\n",
    "print(concatenated_data)"
   ]
  },
  {
   "cell_type": "markdown",
   "metadata": {},
   "source": [
    "**Wrangle Module**"
   ]
  },
  {
   "cell_type": "markdown",
   "metadata": {},
   "source": [
    "Example 1: Drop Rows with NaNs"
   ]
  },
  {
   "cell_type": "code",
   "execution_count": 13,
   "metadata": {},
   "outputs": [
    {
     "name": "stdout",
     "output_type": "stream",
     "text": [
      "Original Data:\n",
      "     A    B   C\n",
      "0  1.0  5.0   9\n",
      "1  2.0  NaN  10\n",
      "2  NaN  7.0  11\n",
      "3  4.0  8.0  12\n",
      "Rows with NaN in columns ['A'] were dropped.\n",
      "\n",
      "Cleaned Data (Dropped rows with NaN in column 'A'):\n",
      "     A    B     C\n",
      "0  1.0  5.0   9.0\n",
      "1  2.0  NaN  10.0\n",
      "2  4.0  8.0  12.0\n"
     ]
    }
   ],
   "source": [
    "# Import wrangle module functions\n",
    "from vistool.wrangle import (\n",
    "    clean_data, \n",
    "    filter_data, \n",
    "    rename_columns, \n",
    "    label_encode\n",
    ")\n",
    "\n",
    "data1 = pd.DataFrame({\n",
    "    \"A\": [1, 2, None, 4],\n",
    "    \"B\": [5, None, 7, 8],\n",
    "    \"C\": [9, 10, 11, 12]\n",
    "})\n",
    "\n",
    "# Clean the Data\n",
    "# Example 1: Drop rows with NaN values in specific columns in column 'A'\n",
    "print(\"Original Data:\")\n",
    "print(data1)\n",
    "\n",
    "cleaned_data1 = clean_data(data1, remove_columns=[\"A\"])\n",
    "print(\"\\nCleaned Data (Dropped rows with NaN in column 'A'):\")\n",
    "print(cleaned_data1)"
   ]
  },
  {
   "cell_type": "markdown",
   "metadata": {},
   "source": [
    "Example 2: Fill NaN with Column Mean"
   ]
  },
  {
   "cell_type": "code",
   "execution_count": 14,
   "metadata": {},
   "outputs": [
    {
     "name": "stdout",
     "output_type": "stream",
     "text": [
      "\n",
      "Original Data:\n",
      "     X    Y     Z\n",
      "0  1.0  NaN   9.0\n",
      "1  NaN  6.0  10.0\n",
      "2  3.0  7.0   NaN\n",
      "3  4.0  NaN   NaN\n",
      "NaN values filled with column mean.\n",
      "\n",
      "Cleaned Data (Filled NaN with column mean):\n",
      "     X    Y     Z\n",
      "0  1.0  6.5   9.0\n",
      "1  2.7  6.0  10.0\n",
      "2  3.0  7.0   9.5\n",
      "3  4.0  6.5   9.5\n"
     ]
    }
   ],
   "source": [
    "# Example 2: Fill NaN values with column mean\n",
    "data2 = pd.DataFrame({\n",
    "    \"X\": [1, None, 3, 4],\n",
    "    \"Y\": [None, 6, 7, None],\n",
    "    \"Z\": [9, 10, None, None]\n",
    "})\n",
    "\n",
    "print(\"\\nOriginal Data:\")\n",
    "print(data2)\n",
    "\n",
    "# Clean data by filling NaN values with column mean\n",
    "cleaned_data2 = clean_data(data2, fill_with=\"mean\")\n",
    "print(\"\\nCleaned Data (Filled NaN with column mean):\")\n",
    "print(cleaned_data2)"
   ]
  },
  {
   "cell_type": "markdown",
   "metadata": {},
   "source": [
    "Example 3: Fill NaN with Row Mean"
   ]
  },
  {
   "cell_type": "code",
   "execution_count": 15,
   "metadata": {},
   "outputs": [
    {
     "name": "stdout",
     "output_type": "stream",
     "text": [
      "\n",
      "Original Data:\n",
      "     P    Q    R\n",
      "0  1.0  4.0  NaN\n",
      "1  NaN  5.0  7.0\n",
      "2  3.0  NaN  8.0\n",
      "NaN values filled with row mean.\n",
      "\n",
      "Cleaned Data (Filled NaN with row mean):\n",
      "     P    Q    R\n",
      "0  1.0  4.0  2.5\n",
      "1  6.0  5.0  7.0\n",
      "2  3.0  5.5  8.0\n"
     ]
    }
   ],
   "source": [
    "# Example 3: Fill NaN values with the row mean\n",
    "data3 = pd.DataFrame({\n",
    "    \"P\": [1, None, 3],\n",
    "    \"Q\": [4, 5, None],\n",
    "    \"R\": [None, 7, 8]\n",
    "})\n",
    "\n",
    "print(\"\\nOriginal Data:\")\n",
    "print(data3)\n",
    "\n",
    "# Clean data by filling NaN values with row mean\n",
    "cleaned_data3 = clean_data(data3, fill_with=\"mean\", apply_to=\"rows\")\n",
    "print(\"\\nCleaned Data (Filled NaN with row mean):\")\n",
    "print(cleaned_data3)"
   ]
  },
  {
   "cell_type": "markdown",
   "metadata": {},
   "source": [
    "Example 4: Drop Rows with NaNs"
   ]
  },
  {
   "cell_type": "code",
   "execution_count": 16,
   "metadata": {},
   "outputs": [
    {
     "name": "stdout",
     "output_type": "stream",
     "text": [
      "\n",
      "Original Data:\n",
      "     U    V\n",
      "0  1.0  NaN\n",
      "1  2.0  5.0\n",
      "2  NaN  6.0\n",
      "3  4.0  7.0\n",
      "Rows with any NaN values were dropped.\n",
      "\n",
      "Cleaned Data (Dropped rows with any NaN values):\n",
      "     U    V\n",
      "0  2.0  5.0\n",
      "1  4.0  7.0\n"
     ]
    }
   ],
   "source": [
    "# Example 4: Drop rows with any NaN values (default)\n",
    "data4 = pd.DataFrame({\n",
    "    \"U\": [1, 2, None, 4],\n",
    "    \"V\": [None, 5, 6, 7]\n",
    "})\n",
    "\n",
    "print(\"\\nOriginal Data:\")\n",
    "print(data4)\n",
    "\n",
    "# Clean data by dropping rows with any NaN values\n",
    "cleaned_data4 = clean_data(data4)\n",
    "print(\"\\nCleaned Data (Dropped rows with any NaN values):\")\n",
    "print(cleaned_data4)"
   ]
  },
  {
   "cell_type": "markdown",
   "metadata": {},
   "source": [
    "Example 5: Filtering Data"
   ]
  },
  {
   "cell_type": "code",
   "execution_count": 17,
   "metadata": {},
   "outputs": [
    {
     "name": "stdout",
     "output_type": "stream",
     "text": [
      "Data filtered successfully.\n"
     ]
    },
    {
     "data": {
      "text/html": [
       "<div>\n",
       "<style scoped>\n",
       "    .dataframe tbody tr th:only-of-type {\n",
       "        vertical-align: middle;\n",
       "    }\n",
       "\n",
       "    .dataframe tbody tr th {\n",
       "        vertical-align: top;\n",
       "    }\n",
       "\n",
       "    .dataframe thead th {\n",
       "        text-align: right;\n",
       "    }\n",
       "</style>\n",
       "<table border=\"1\" class=\"dataframe\">\n",
       "  <thead>\n",
       "    <tr style=\"text-align: right;\">\n",
       "      <th></th>\n",
       "      <th>Customer_ID</th>\n",
       "      <th>Age</th>\n",
       "      <th>Gender</th>\n",
       "      <th>Annual_Income</th>\n",
       "      <th>Purchase_History</th>\n",
       "      <th>City</th>\n",
       "      <th>Customer_Type</th>\n",
       "    </tr>\n",
       "  </thead>\n",
       "  <tbody>\n",
       "    <tr>\n",
       "      <th>4</th>\n",
       "      <td>NaN</td>\n",
       "      <td>40.0</td>\n",
       "      <td>Female</td>\n",
       "      <td>60000.0</td>\n",
       "      <td>8.0</td>\n",
       "      <td>NY</td>\n",
       "      <td>Regular</td>\n",
       "    </tr>\n",
       "    <tr>\n",
       "      <th>6</th>\n",
       "      <td>107.0</td>\n",
       "      <td>45.0</td>\n",
       "      <td>Female</td>\n",
       "      <td>NaN</td>\n",
       "      <td>6.0</td>\n",
       "      <td>LA</td>\n",
       "      <td>VIP</td>\n",
       "    </tr>\n",
       "  </tbody>\n",
       "</table>\n",
       "</div>"
      ],
      "text/plain": [
       "   Customer_ID   Age  Gender  Annual_Income  Purchase_History City  \\\n",
       "4          NaN  40.0  Female        60000.0               8.0   NY   \n",
       "6        107.0  45.0  Female            NaN               6.0   LA   \n",
       "\n",
       "  Customer_Type  \n",
       "4       Regular  \n",
       "6           VIP  "
      ]
     },
     "execution_count": 17,
     "metadata": {},
     "output_type": "execute_result"
    }
   ],
   "source": [
    "# Example 5: Filtering Data\n",
    "# Only include customers aged over 30 who have made more than 5 purchases\n",
    "\n",
    "# A customer dataset\n",
    "data = pd.DataFrame({\n",
    "    'Customer_ID': [101, 102, 103, 104, None, 106, 107, 108],\n",
    "    'Age': [25, 30, 35, None, 40, None, 45, 50],\n",
    "    'Gender': [\n",
    "        'Male', 'Female', 'Female', 'Male', \n",
    "        'Female', 'Male', 'Female', 'Male'\n",
    "    ],\n",
    "    'Annual_Income': [\n",
    "        50000, None, 70000, 80000, \n",
    "        60000, 90000, None, 100000\n",
    "    ],\n",
    "    'Purchase_History': \n",
    "        [3, 5, None, 7, \n",
    "         8, 9, 6, 2\n",
    "    ],\n",
    "    'City': ['NY', 'LA', 'SF', 'LA', 'NY', 'SF', 'LA', 'NY'],\n",
    "    'Customer_Type': [\n",
    "        'Regular', 'VIP', 'Regular', 'VIP', \n",
    "        'Regular', 'Regular', 'VIP', 'Regular'\n",
    "    ]\n",
    "})\n",
    "\n",
    "filtered_data = filter_data(data, \"Age > 30 and Purchase_History > 5\")\n",
    "\n",
    "filtered_data"
   ]
  },
  {
   "cell_type": "markdown",
   "metadata": {},
   "source": [
    "Example 6: Renaming Columns"
   ]
  },
  {
   "cell_type": "code",
   "execution_count": 18,
   "metadata": {},
   "outputs": [
    {
     "name": "stdout",
     "output_type": "stream",
     "text": [
      "Columns renamed successfully.\n"
     ]
    },
    {
     "data": {
      "text/html": [
       "<div>\n",
       "<style scoped>\n",
       "    .dataframe tbody tr th:only-of-type {\n",
       "        vertical-align: middle;\n",
       "    }\n",
       "\n",
       "    .dataframe tbody tr th {\n",
       "        vertical-align: top;\n",
       "    }\n",
       "\n",
       "    .dataframe thead th {\n",
       "        text-align: right;\n",
       "    }\n",
       "</style>\n",
       "<table border=\"1\" class=\"dataframe\">\n",
       "  <thead>\n",
       "    <tr style=\"text-align: right;\">\n",
       "      <th></th>\n",
       "      <th>Customer_ID</th>\n",
       "      <th>Age</th>\n",
       "      <th>Gender</th>\n",
       "      <th>Annual_Income</th>\n",
       "      <th>Purchases_Made</th>\n",
       "      <th>City</th>\n",
       "      <th>Customer_Category</th>\n",
       "    </tr>\n",
       "  </thead>\n",
       "  <tbody>\n",
       "    <tr>\n",
       "      <th>0</th>\n",
       "      <td>101.0</td>\n",
       "      <td>25.0</td>\n",
       "      <td>Male</td>\n",
       "      <td>50000.0</td>\n",
       "      <td>3.0</td>\n",
       "      <td>NY</td>\n",
       "      <td>Regular</td>\n",
       "    </tr>\n",
       "    <tr>\n",
       "      <th>1</th>\n",
       "      <td>102.0</td>\n",
       "      <td>30.0</td>\n",
       "      <td>Female</td>\n",
       "      <td>NaN</td>\n",
       "      <td>5.0</td>\n",
       "      <td>LA</td>\n",
       "      <td>VIP</td>\n",
       "    </tr>\n",
       "    <tr>\n",
       "      <th>2</th>\n",
       "      <td>103.0</td>\n",
       "      <td>35.0</td>\n",
       "      <td>Female</td>\n",
       "      <td>70000.0</td>\n",
       "      <td>NaN</td>\n",
       "      <td>SF</td>\n",
       "      <td>Regular</td>\n",
       "    </tr>\n",
       "    <tr>\n",
       "      <th>3</th>\n",
       "      <td>104.0</td>\n",
       "      <td>NaN</td>\n",
       "      <td>Male</td>\n",
       "      <td>80000.0</td>\n",
       "      <td>7.0</td>\n",
       "      <td>LA</td>\n",
       "      <td>VIP</td>\n",
       "    </tr>\n",
       "    <tr>\n",
       "      <th>4</th>\n",
       "      <td>NaN</td>\n",
       "      <td>40.0</td>\n",
       "      <td>Female</td>\n",
       "      <td>60000.0</td>\n",
       "      <td>8.0</td>\n",
       "      <td>NY</td>\n",
       "      <td>Regular</td>\n",
       "    </tr>\n",
       "    <tr>\n",
       "      <th>5</th>\n",
       "      <td>106.0</td>\n",
       "      <td>NaN</td>\n",
       "      <td>Male</td>\n",
       "      <td>90000.0</td>\n",
       "      <td>9.0</td>\n",
       "      <td>SF</td>\n",
       "      <td>Regular</td>\n",
       "    </tr>\n",
       "    <tr>\n",
       "      <th>6</th>\n",
       "      <td>107.0</td>\n",
       "      <td>45.0</td>\n",
       "      <td>Female</td>\n",
       "      <td>NaN</td>\n",
       "      <td>6.0</td>\n",
       "      <td>LA</td>\n",
       "      <td>VIP</td>\n",
       "    </tr>\n",
       "    <tr>\n",
       "      <th>7</th>\n",
       "      <td>108.0</td>\n",
       "      <td>50.0</td>\n",
       "      <td>Male</td>\n",
       "      <td>100000.0</td>\n",
       "      <td>2.0</td>\n",
       "      <td>NY</td>\n",
       "      <td>Regular</td>\n",
       "    </tr>\n",
       "  </tbody>\n",
       "</table>\n",
       "</div>"
      ],
      "text/plain": [
       "   Customer_ID   Age  Gender  Annual_Income  Purchases_Made City  \\\n",
       "0        101.0  25.0    Male        50000.0             3.0   NY   \n",
       "1        102.0  30.0  Female            NaN             5.0   LA   \n",
       "2        103.0  35.0  Female        70000.0             NaN   SF   \n",
       "3        104.0   NaN    Male        80000.0             7.0   LA   \n",
       "4          NaN  40.0  Female        60000.0             8.0   NY   \n",
       "5        106.0   NaN    Male        90000.0             9.0   SF   \n",
       "6        107.0  45.0  Female            NaN             6.0   LA   \n",
       "7        108.0  50.0    Male       100000.0             2.0   NY   \n",
       "\n",
       "  Customer_Category  \n",
       "0           Regular  \n",
       "1               VIP  \n",
       "2           Regular  \n",
       "3               VIP  \n",
       "4           Regular  \n",
       "5           Regular  \n",
       "6               VIP  \n",
       "7           Regular  "
      ]
     },
     "execution_count": 18,
     "metadata": {},
     "output_type": "execute_result"
    }
   ],
   "source": [
    "# Example 6: Renaming Columns\n",
    "# Rename 'Customer_Type' -> 'Customer_Category' \n",
    "# &'Purchase_History' -> 'Purchases_Made'\n",
    "\n",
    "renamed_data = rename_columns(\n",
    "    data, \n",
    "    {\n",
    "    'Customer_Type': 'Customer_Category', \n",
    "    'Purchase_History': 'Purchases_Made'\n",
    "    }\n",
    ")\n",
    "renamed_data"
   ]
  },
  {
   "cell_type": "markdown",
   "metadata": {},
   "source": [
    "Example 7: Label Encoding"
   ]
  },
  {
   "cell_type": "code",
   "execution_count": 19,
   "metadata": {},
   "outputs": [
    {
     "name": "stdout",
     "output_type": "stream",
     "text": [
      "Label encoding applied to column: Gender\n",
      "Label encoding applied to column: Customer_Type\n",
      "Final Data After Wrangling:\n"
     ]
    },
    {
     "data": {
      "text/html": [
       "<div>\n",
       "<style scoped>\n",
       "    .dataframe tbody tr th:only-of-type {\n",
       "        vertical-align: middle;\n",
       "    }\n",
       "\n",
       "    .dataframe tbody tr th {\n",
       "        vertical-align: top;\n",
       "    }\n",
       "\n",
       "    .dataframe thead th {\n",
       "        text-align: right;\n",
       "    }\n",
       "</style>\n",
       "<table border=\"1\" class=\"dataframe\">\n",
       "  <thead>\n",
       "    <tr style=\"text-align: right;\">\n",
       "      <th></th>\n",
       "      <th>Customer_ID</th>\n",
       "      <th>Age</th>\n",
       "      <th>Gender</th>\n",
       "      <th>Annual_Income</th>\n",
       "      <th>Purchase_History</th>\n",
       "      <th>City</th>\n",
       "      <th>Customer_Type</th>\n",
       "    </tr>\n",
       "  </thead>\n",
       "  <tbody>\n",
       "    <tr>\n",
       "      <th>0</th>\n",
       "      <td>101.0</td>\n",
       "      <td>25.0</td>\n",
       "      <td>1</td>\n",
       "      <td>50000.0</td>\n",
       "      <td>3.0</td>\n",
       "      <td>NY</td>\n",
       "      <td>0</td>\n",
       "    </tr>\n",
       "    <tr>\n",
       "      <th>1</th>\n",
       "      <td>102.0</td>\n",
       "      <td>30.0</td>\n",
       "      <td>0</td>\n",
       "      <td>NaN</td>\n",
       "      <td>5.0</td>\n",
       "      <td>LA</td>\n",
       "      <td>1</td>\n",
       "    </tr>\n",
       "    <tr>\n",
       "      <th>2</th>\n",
       "      <td>103.0</td>\n",
       "      <td>35.0</td>\n",
       "      <td>0</td>\n",
       "      <td>70000.0</td>\n",
       "      <td>NaN</td>\n",
       "      <td>SF</td>\n",
       "      <td>0</td>\n",
       "    </tr>\n",
       "    <tr>\n",
       "      <th>3</th>\n",
       "      <td>104.0</td>\n",
       "      <td>NaN</td>\n",
       "      <td>1</td>\n",
       "      <td>80000.0</td>\n",
       "      <td>7.0</td>\n",
       "      <td>LA</td>\n",
       "      <td>1</td>\n",
       "    </tr>\n",
       "    <tr>\n",
       "      <th>4</th>\n",
       "      <td>NaN</td>\n",
       "      <td>40.0</td>\n",
       "      <td>0</td>\n",
       "      <td>60000.0</td>\n",
       "      <td>8.0</td>\n",
       "      <td>NY</td>\n",
       "      <td>0</td>\n",
       "    </tr>\n",
       "    <tr>\n",
       "      <th>5</th>\n",
       "      <td>106.0</td>\n",
       "      <td>NaN</td>\n",
       "      <td>1</td>\n",
       "      <td>90000.0</td>\n",
       "      <td>9.0</td>\n",
       "      <td>SF</td>\n",
       "      <td>0</td>\n",
       "    </tr>\n",
       "    <tr>\n",
       "      <th>6</th>\n",
       "      <td>107.0</td>\n",
       "      <td>45.0</td>\n",
       "      <td>0</td>\n",
       "      <td>NaN</td>\n",
       "      <td>6.0</td>\n",
       "      <td>LA</td>\n",
       "      <td>1</td>\n",
       "    </tr>\n",
       "    <tr>\n",
       "      <th>7</th>\n",
       "      <td>108.0</td>\n",
       "      <td>50.0</td>\n",
       "      <td>1</td>\n",
       "      <td>100000.0</td>\n",
       "      <td>2.0</td>\n",
       "      <td>NY</td>\n",
       "      <td>0</td>\n",
       "    </tr>\n",
       "  </tbody>\n",
       "</table>\n",
       "</div>"
      ],
      "text/plain": [
       "   Customer_ID   Age  Gender  Annual_Income  Purchase_History City  \\\n",
       "0        101.0  25.0       1        50000.0               3.0   NY   \n",
       "1        102.0  30.0       0            NaN               5.0   LA   \n",
       "2        103.0  35.0       0        70000.0               NaN   SF   \n",
       "3        104.0   NaN       1        80000.0               7.0   LA   \n",
       "4          NaN  40.0       0        60000.0               8.0   NY   \n",
       "5        106.0   NaN       1        90000.0               9.0   SF   \n",
       "6        107.0  45.0       0            NaN               6.0   LA   \n",
       "7        108.0  50.0       1       100000.0               2.0   NY   \n",
       "\n",
       "   Customer_Type  \n",
       "0              0  \n",
       "1              1  \n",
       "2              0  \n",
       "3              1  \n",
       "4              0  \n",
       "5              0  \n",
       "6              1  \n",
       "7              0  "
      ]
     },
     "execution_count": 19,
     "metadata": {},
     "output_type": "execute_result"
    }
   ],
   "source": [
    "# Example 7: Label Encoding\n",
    "# 'Gender' and 'Customer_Type' columns\n",
    "# Convert 'Gender' (Male/Female) to 0/1 & 'Customer_Type' (Regular/VIP) to 0/1\n",
    "\n",
    "encoded_data = label_encode(data, 'Gender')\n",
    "encoded_data = label_encode(data, 'Customer_Type')\n",
    "\n",
    "# Display the final wrangled dataset\n",
    "print(\"Final Data After Wrangling:\")\n",
    "encoded_data"
   ]
  },
  {
   "cell_type": "markdown",
   "metadata": {},
   "source": [
    "**Visualize Module**"
   ]
  },
  {
   "cell_type": "markdown",
   "metadata": {},
   "source": [
    "Example 1: Histogram"
   ]
  },
  {
   "cell_type": "code",
   "execution_count": 20,
   "metadata": {},
   "outputs": [
    {
     "name": "stdout",
     "output_type": "stream",
     "text": [
      "Dataset for Histogram:\n",
      "   Age(Years)  Cholesterol(mmol/L)\n",
      "0          25                  1.0\n",
      "1          30                  2.0\n",
      "2          35                  7.0\n",
      "3          40                  5.0\n",
      "4          45                  3.0\n",
      "5          50                  5.0\n",
      "6          55                  5.2\n",
      "7          60                  1.3\n",
      "8          65                  4.8\n",
      "9          70                  9.9\n"
     ]
    },
    {
     "data": {
      "image/png": "[encoded data removed]",
      "text/plain": [
       "<Figure size 1600x1000 with 1 Axes>"
      ]
     },
     "metadata": {},
     "output_type": "display_data"
    },
    {
     "name": "stdout",
     "output_type": "stream",
     "text": [
      "Histogram saved to age_histogram.png\n"
     ]
    }
   ],
   "source": [
    "# Importing visualization functions from visualize.py\n",
    "from vistool.visualize import (\n",
    "    plot_histogram, \n",
    "    plot_scatter, \n",
    "    plot_correlation_matrix, \n",
    "    plot_line, \n",
    "    plot_overlay\n",
    ")\n",
    "\n",
    "# Example dataset\n",
    "data1 = pd.DataFrame({\n",
    "    \"Age(Years)\": [25, 30, 35, 40, 45, 50, 55, 60, 65, 70],\n",
    "    \"Cholesterol(mmol/L)\": [1, 2, 7, 5, 3, 5, 5.2, 1.3, 4.8, 9.9]\n",
    "})\n",
    "\n",
    "# Example 1: Plot a histogram for the \"Age\" column\n",
    "print(\"Dataset for Histogram:\")\n",
    "print(data1)\n",
    "\n",
    "plot_histogram(data1, column=\"Age(Years)\")\n",
    "\n",
    "# Save the histogram to a file\n",
    "plot_histogram(data1, column=\"Age(Years)\", save_path=\"age_histogram.png\")"
   ]
  },
  {
   "cell_type": "markdown",
   "metadata": {},
   "source": [
    "Example 2: Scatter Plot"
   ]
  },
  {
   "cell_type": "code",
   "execution_count": 21,
   "metadata": {},
   "outputs": [
    {
     "data": {
      "image/png": "[encoded data removed]",
      "text/plain": [
       "<Figure size 1600x1000 with 1 Axes>"
      ]
     },
     "metadata": {},
     "output_type": "display_data"
    },
    {
     "name": "stdout",
     "output_type": "stream",
     "text": [
      "Scatter plot saved to age_vs_cholesterol.png\n"
     ]
    }
   ],
   "source": [
    "# Example 2: Plot a scatter plot between \"Age(Years)\" and \"Cholesterol(mmol/L)\"\n",
    "plot_scatter(\n",
    "    data1, \n",
    "    x_column=\"Age(Years)\", \n",
    "    y_column=\"Cholesterol(mmol/L)\"\n",
    ")\n",
    "\n",
    "# Save the scatter plot to a file\n",
    "plot_scatter(\n",
    "    data1, \n",
    "    x_column=\"Age(Years)\", \n",
    "    y_column=\"Cholesterol(mmol/L)\", save_path=\"age_vs_cholesterol.png\"\n",
    ")"
   ]
  },
  {
   "cell_type": "markdown",
   "metadata": {},
   "source": [
    "Example 3: Correlation Matrix"
   ]
  },
  {
   "cell_type": "code",
   "execution_count": 24,
   "metadata": {},
   "outputs": [
    {
     "name": "stdout",
     "output_type": "stream",
     "text": [
      "Dataset for Correlation Matrix:\n",
      "   Weight (KG)  Height (CM)\n",
      "0           50          161\n",
      "1           90          185\n",
      "2           88          175\n",
      "3           47          150\n",
      "4           61          154\n"
     ]
    },
    {
     "data": {
      "image/png": "[encoded data removed]",
      "text/plain": [
       "<Figure size 1600x1000 with 2 Axes>"
      ]
     },
     "metadata": {},
     "output_type": "display_data"
    }
   ],
   "source": [
    "# Example 3: Dataset for correlation matrix\n",
    "data2 = pd.DataFrame({\n",
    "    \"Weight (KG)\": [50, 90, 88, 47, 61],\n",
    "    \"Height (CM)\": [161, 185, 175, 150, 154]\n",
    "})\n",
    "\n",
    "print(\"Dataset for Correlation Matrix:\")\n",
    "print(data2)\n",
    "\n",
    "# Show plot\n",
    "plot_correlation_matrix(data2)"
   ]
  },
  {
   "cell_type": "code",
   "execution_count": 25,
   "metadata": {},
   "outputs": [
    {
     "name": "stdout",
     "output_type": "stream",
     "text": [
      "Dataset for Correlation Matrix:\n",
      "   Weight (KG)  Height (CM)    Male\n",
      "0           50          161  string\n",
      "1           90          185       2\n",
      "2           88          175       1\n",
      "3           47          150     vvv\n",
      "4           61          154     sss\n",
      "Error: The following columns are non-numeric: ['Male']\n"
     ]
    }
   ],
   "source": [
    "# Example 3a: Dataset for correlation matrix with a known error\n",
    "data2 = pd.DataFrame({\n",
    "    \"Weight (KG)\": [50, 90, 88, 47, 61],\n",
    "    \"Height (CM)\": [161, 185, 175, 150, 154],\n",
    "    \"Male\": [\"string\", 2, 1, \"vvv\", \"sss\"]\n",
    "})\n",
    "\n",
    "print(\"Dataset for Correlation Matrix:\")\n",
    "print(data2)\n",
    "\n",
    "# Optionally, save the correlation matrix to a file\n",
    "plot_correlation_matrix(data2, save_path=\"correlation_matrix.png\")"
   ]
  },
  {
   "cell_type": "markdown",
   "metadata": {},
   "source": [
    "Example 4: Line Plot"
   ]
  },
  {
   "cell_type": "code",
   "execution_count": 26,
   "metadata": {},
   "outputs": [
    {
     "name": "stdout",
     "output_type": "stream",
     "text": [
      "Dataset for Line Plot:\n",
      "        Date  Age_At_Admission\n",
      "0 2024-10-01                30\n",
      "1 2024-10-02                32\n",
      "2 2024-10-03                34\n",
      "3 2024-10-04                33\n",
      "4 2024-10-05                31\n",
      "5 2024-10-06                29\n",
      "6 2024-10-07                28\n",
      "7 2024-10-08                30\n",
      "8 2024-10-09                31\n",
      "9 2024-10-10                32\n"
     ]
    },
    {
     "data": {
      "image/png": "[encoded data removed]",
      "text/plain": [
       "<Figure size 1600x1000 with 1 Axes>"
      ]
     },
     "metadata": {},
     "output_type": "display_data"
    },
    {
     "name": "stdout",
     "output_type": "stream",
     "text": [
      "Line plot saved to age_at_admission_line.png\n"
     ]
    }
   ],
   "source": [
    "# Example 4: Dataset for line plot\n",
    "data3 = pd.DataFrame({\n",
    "    \"Date\": pd.date_range(start=\"2024-10-01\", periods=10, freq=\"D\"),\n",
    "    \"Age_At_Admission\": [30, 32, 34, 33, 31, 29, 28, 30, 31, 32]\n",
    "})\n",
    "\n",
    "print(\"Dataset for Line Plot:\")\n",
    "print(data3)\n",
    "\n",
    "# Plot a line chart for \"Date\" vs \"Age_At_Admission\"\n",
    "plot_line(data3, x_column=\"Date\", y_column=\"Age_At_Admission\")\n",
    "\n",
    "# Save the line chart to a file\n",
    "plot_line(\n",
    "    data3, \n",
    "    x_column=\"Date\", \n",
    "    y_column=\"Age_At_Admission\", \n",
    "    save_path=\"age_at_admission_line.png\"\n",
    ")"
   ]
  },
  {
   "cell_type": "markdown",
   "metadata": {},
   "source": [
    "Example 5: Overlay Plot"
   ]
  },
  {
   "cell_type": "code",
   "execution_count": 27,
   "metadata": {},
   "outputs": [
    {
     "name": "stdout",
     "output_type": "stream",
     "text": [
      "Dataset for Overlay Plot:\n",
      "       Male(1)_vs_Female(2)  Age\n",
      "Month                           \n",
      "Jan                       1   80\n",
      "Feb                       2   90\n",
      "Mar                       2   22\n",
      "Apr                       1   38\n",
      "May                       1   87\n"
     ]
    },
    {
     "data": {
      "image/png": "[encoded data removed]",
      "text/plain": [
       "<Figure size 1600x1000 with 1 Axes>"
      ]
     },
     "metadata": {},
     "output_type": "display_data"
    },
    {
     "name": "stdout",
     "output_type": "stream",
     "text": [
      "Overlay plot saved to a_and_e_attendances.png\n"
     ]
    }
   ],
   "source": [
    "# Example 5: Dataset for overlay plot\n",
    "data4 = pd.DataFrame({\n",
    "    \"Male(1)_vs_Female(2)\": [1, 2, 2, 1, 1],\n",
    "    \"Age\": [80, 90, 22, 38, 87],\n",
    "    \"Month\": [\"Jan\", \"Feb\", \"Mar\", \"Apr\", \"May\"]\n",
    "})\n",
    "\n",
    "data4.set_index(\"Month\", inplace=True)\n",
    "\n",
    "print(\"Dataset for Overlay Plot:\")\n",
    "print(data4)\n",
    "\n",
    "# Overlay A&E data for Product A (line) and Product B (bar)\n",
    "plot_overlay(\n",
    "    data=data4, \n",
    "    columns=[\"Male(1)_vs_Female(2)\", \"Age\"], \n",
    "    plot_types=[\"line\", \"bar\"], \n",
    "    title=\"A&E Attendance Data\"\n",
    ")\n",
    "\n",
    "# Save the overlay plot to a file\n",
    "plot_overlay(\n",
    "    data=data4, \n",
    "    columns=[\"Male(1)_vs_Female(2)\", \"Age\"], \n",
    "    plot_types=[\"line\", \"bar\"], \n",
    "    title=\"A&E Attendance Data Overlay\", \n",
    "    save_path=\"a_and_e_attendances.png\"\n",
    ")"
   ]
  }
 ],
 "metadata": {
  "kernelspec": {
   "display_name": "vistool_env",
   "language": "python",
   "name": "python3"
  },
  "language_info": {
   "codemirror_mode": {
    "name": "ipython",
    "version": 3
   },
   "file_extension": ".py",
   "mimetype": "text/x-python",
   "name": "python",
   "nbconvert_exporter": "python",
   "pygments_lexer": "ipython3",
   "version": "3.11.11"
  }
 },
 "nbformat": 4,
 "nbformat_minor": 4
}
