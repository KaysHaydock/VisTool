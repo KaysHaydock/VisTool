{
 "cells": [
  {
   "cell_type": "markdown",
   "metadata": {},
   "source": [
    "\n",
    "\n",
    "# Example Usage for Interactive Functions still in dev\n",
    "\n",
    "Here’s an example of how you could use the interactive functions in wrangle module. \n",
    "These examples assume that you have a pandas.DataFrame called data ready for manipulation.\n",
    "\n",
    "## 1. Interactive Data Cleaning (clean_data_interactive):\n",
    "\n",
    "This function allows users to interactively clean the dataset by selecting columns to remove or fill NaN values.\n",
    "\n",
    "Usage:\n",
    "\n",
    "\t•\tChoose columns to remove (e.g., age).\n",
    "\t•\tSelect how to handle NaN values (e.g., fill with “mean”).\n",
    "\t•\tDecide whether to apply the cleaning to rows or columns.\n",
    "\t•\tClick the “Apply Cleaning” button to see the cleaned data."
   ]
  },
  {
   "cell_type": "code",
   "execution_count": 3,
   "metadata": {},
   "outputs": [],
   "source": [
    "\n",
    "import pandas as pd\n",
    "from vistool.wrangle import (clean_data_interactive, \n",
    "                                     filter_data_interactive, \n",
    "                                     rename_columns_interactive, \n",
    "                                     label_encode_interactive)\n",
    "\n",
    "\n",
    "\n",
    "# Example DataFrame\n",
    "data = pd.DataFrame({\n",
    "    'age': [25, 30, None, 40],\n",
    "    'income': [50000, None, 55000, 60000],\n",
    "    'city': ['NY', 'LA', 'SF', 'LA']\n",
    "})\n"
   ]
  },
  {
   "cell_type": "code",
   "execution_count": null,
   "metadata": {},
   "outputs": [],
   "source": [
    "\n",
    "# Launch interactive data cleaning\n",
    "clean_data_interactive(data)\n",
    "\n"
   ]
  },
  {
   "cell_type": "code",
   "execution_count": null,
   "metadata": {},
   "outputs": [],
   "source": []
  },
  {
   "cell_type": "markdown",
   "metadata": {},
   "source": [
    "## 2. Interactive Data Filtering (filter_data_interactive):\n",
    "\n",
    "This function allows users to interactively filter the dataset based on a specified condition.\n",
    "\n",
    "\n",
    "Usage:\n",
    "\n",
    "\t•\tEnter a filter condition (e.g., age > 30).\n",
    "\t•\tClick the “Apply Filter” button to see the filtered data based on the condition."
   ]
  },
  {
   "cell_type": "code",
   "execution_count": null,
   "metadata": {},
   "outputs": [],
   "source": [
    "\n",
    "# Launch interactive data filtering\n",
    "filter_data_interactive(data)\n"
   ]
  },
  {
   "cell_type": "markdown",
   "metadata": {},
   "source": [
    "## 3. Interactive Column Renaming (rename_columns_interactive):\n",
    "\n",
    "This function allows users to interactively rename columns in the dataset.\n",
    "\n",
    "Usage:\n",
    "    \n",
    "\t•\tEnter the column mappings in the format: old_name:new_name (e.g., age:years,income:salary).\n",
    "\t•\tClick the “Apply Rename” button to apply the column renaming.\n",
    "\n"
   ]
  },
  {
   "cell_type": "code",
   "execution_count": null,
   "metadata": {},
   "outputs": [],
   "source": [
    "\n",
    "# Launch interactive column renaming\n",
    "rename_columns_interactive(data)\n"
   ]
  },
  {
   "cell_type": "markdown",
   "metadata": {},
   "source": [
    "\n",
    "## 4. Interactive Label Encoding (label_encode_interactive):\n",
    "\n",
    "This function allows users to interactively apply label encoding on a categorical column.\n",
    "\n",
    "Usage:\n",
    "    \n",
    "\t•\tSelect a categorical column from the dropdown (e.g., city).\n",
    "\t•\tClick the “Apply Encoding” button to encode the column as numeric labels.\n",
    "\n"
   ]
  },
  {
   "cell_type": "code",
   "execution_count": null,
   "metadata": {},
   "outputs": [],
   "source": [
    "\n",
    "# Launch interactive label encoding\n",
    "label_encode_interactive(data)"
   ]
  },
  {
   "cell_type": "markdown",
   "metadata": {},
   "source": []
  },
  {
   "cell_type": "code",
   "execution_count": 9,
   "metadata": {},
   "outputs": [],
   "source": [
    "# import load-csv and summarize_data  \n",
    "from vistool.download import load_csv, summarize_data\n",
    "\n"
   ]
  },
  {
   "cell_type": "code",
   "execution_count": null,
   "metadata": {},
   "outputs": [],
   "source": [
    "# load Monthly_AE_Attendances in nov 2024 in data file and print firts 5 rows\n",
    "\n",
    "df = load_csv('data/Monthly_AE_Attendances_Nov_2024.csv')\n",
    "df.head(5)\n"
   ]
  },
  {
   "cell_type": "code",
   "execution_count": null,
   "metadata": {},
   "outputs": [],
   "source": [
    "#print the summary of data \n",
    "summarize_data(df)"
   ]
  },
  {
   "cell_type": "code",
   "execution_count": null,
   "metadata": {},
   "outputs": [],
   "source": [
    "df.columns\n",
    "df.dtypes"
   ]
  },
  {
   "cell_type": "code",
   "execution_count": null,
   "metadata": {},
   "outputs": [],
   "source": [
    "# Launch interactive cleaning\n",
    "# Choose a column, such as ae_attendances_type_1, to clean.\n",
    "# Decide whether to drop rows or fill NaN values with the mean.\n",
    "# Click the “Apply Cleaning” button to see the updated dataset.\n",
    "\n",
    "\n",
    "clean_data_interactive(df)\n",
    "\n"
   ]
  },
  {
   "cell_type": "code",
   "execution_count": null,
   "metadata": {},
   "outputs": [],
   "source": [
    "# Launch interactive renaming\n",
    "# For example, filter rows where ae_attendances_type_1 > 10\n",
    "\n",
    "filter_data_interactive(df)"
   ]
  },
  {
   "cell_type": "code",
   "execution_count": null,
   "metadata": {},
   "outputs": [],
   "source": [
    "# Launch interactive renaming\n",
    "#  For example, rename ae_attendances_type_1 to type_1_attendances\n",
    "rename_columns_interactive(data)"
   ]
  },
  {
   "cell_type": "code",
   "execution_count": null,
   "metadata": {},
   "outputs": [],
   "source": [
    "\n",
    "\n",
    "\n",
    "# Launch interactive label encoding\n",
    "# If you want to encode a categorical column, such as org_name, into numeric labels:\n",
    "\n",
    "label_encode_interactive(df)\n"
   ]
  }
 ],
 "metadata": {
  "kernelspec": {
   "display_name": "vistool_env",
   "language": "python",
   "name": "python3"
  },
  "language_info": {
   "codemirror_mode": {
    "name": "ipython",
    "version": 3
   },
   "file_extension": ".py",
   "mimetype": "text/x-python",
   "name": "python",
   "nbconvert_exporter": "python",
   "pygments_lexer": "ipython3",
   "version": "3.11.11"
  }
 },
 "nbformat": 4,
 "nbformat_minor": 2
}
